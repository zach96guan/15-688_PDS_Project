{
 "cells": [
  {
   "cell_type": "code",
   "execution_count": 1,
   "metadata": {},
   "outputs": [],
   "source": [
    "import numpy as np\n",
    "import pandas as pd\n",
    "import matplotlib.pyplot as plt\n",
    "import datetime as dt\n",
    "\n",
    "from collections import Counter, defaultdict\n",
    "from scipy.stats import lognorm"
   ]
  },
  {
   "cell_type": "code",
   "execution_count": 2,
   "metadata": {},
   "outputs": [
    {
     "name": "stderr",
     "output_type": "stream",
     "text": [
      "/Users/zachguan/opt/anaconda3/lib/python3.7/site-packages/numpy/lib/arraysetops.py:568: FutureWarning: elementwise comparison failed; returning scalar instead, but in the future will perform elementwise comparison\n",
      "  mask |= (ar1 == a)\n"
     ]
    }
   ],
   "source": [
    "file_path = \"./data/processed_myData.csv\"\n",
    "\n",
    "df = pd.read_csv(file_path, index_col=0)\n",
    "df = df.reset_index(drop=True)"
   ]
  },
  {
   "cell_type": "code",
   "execution_count": 3,
   "metadata": {},
   "outputs": [
    {
     "data": {
      "text/html": [
       "<div>\n",
       "<style scoped>\n",
       "    .dataframe tbody tr th:only-of-type {\n",
       "        vertical-align: middle;\n",
       "    }\n",
       "\n",
       "    .dataframe tbody tr th {\n",
       "        vertical-align: top;\n",
       "    }\n",
       "\n",
       "    .dataframe thead th {\n",
       "        text-align: right;\n",
       "    }\n",
       "</style>\n",
       "<table border=\"1\" class=\"dataframe\">\n",
       "  <thead>\n",
       "    <tr style=\"text-align: right;\">\n",
       "      <th></th>\n",
       "      <th>dolocationid</th>\n",
       "      <th>extra</th>\n",
       "      <th>fare_amount</th>\n",
       "      <th>improvement_surcharge</th>\n",
       "      <th>mta_tax</th>\n",
       "      <th>passenger_count</th>\n",
       "      <th>payment_type</th>\n",
       "      <th>pulocationid</th>\n",
       "      <th>ratecodeid</th>\n",
       "      <th>tip_amount</th>\n",
       "      <th>tolls_amount</th>\n",
       "      <th>total_amount</th>\n",
       "      <th>tpep_dropoff_datetime</th>\n",
       "      <th>tpep_pickup_datetime</th>\n",
       "      <th>trip_distance</th>\n",
       "      <th>vendorid</th>\n",
       "      <th>duration</th>\n",
       "    </tr>\n",
       "  </thead>\n",
       "  <tbody>\n",
       "    <tr>\n",
       "      <td>0</td>\n",
       "      <td>1</td>\n",
       "      <td>0.0</td>\n",
       "      <td>2.5</td>\n",
       "      <td>0.3</td>\n",
       "      <td>0.5</td>\n",
       "      <td>3</td>\n",
       "      <td>2</td>\n",
       "      <td>1</td>\n",
       "      <td>1</td>\n",
       "      <td>0.00</td>\n",
       "      <td>0.00</td>\n",
       "      <td>3.30</td>\n",
       "      <td>2019-01-01 10:10:33</td>\n",
       "      <td>2019-01-01 10:10:30</td>\n",
       "      <td>16.9</td>\n",
       "      <td>1</td>\n",
       "      <td>0 days 00:00:03.000000000</td>\n",
       "    </tr>\n",
       "    <tr>\n",
       "      <td>1</td>\n",
       "      <td>1</td>\n",
       "      <td>0.0</td>\n",
       "      <td>0.0</td>\n",
       "      <td>0.3</td>\n",
       "      <td>0.0</td>\n",
       "      <td>3</td>\n",
       "      <td>3</td>\n",
       "      <td>1</td>\n",
       "      <td>5</td>\n",
       "      <td>0.00</td>\n",
       "      <td>16.26</td>\n",
       "      <td>16.56</td>\n",
       "      <td>2019-01-01 10:11:32</td>\n",
       "      <td>2019-01-01 10:10:52</td>\n",
       "      <td>16.9</td>\n",
       "      <td>1</td>\n",
       "      <td>0 days 00:00:40.000000000</td>\n",
       "    </tr>\n",
       "    <tr>\n",
       "      <td>2</td>\n",
       "      <td>1</td>\n",
       "      <td>0.0</td>\n",
       "      <td>0.0</td>\n",
       "      <td>0.3</td>\n",
       "      <td>0.0</td>\n",
       "      <td>3</td>\n",
       "      <td>3</td>\n",
       "      <td>1</td>\n",
       "      <td>5</td>\n",
       "      <td>0.00</td>\n",
       "      <td>16.26</td>\n",
       "      <td>16.56</td>\n",
       "      <td>2019-01-01 10:13:13</td>\n",
       "      <td>2019-01-01 10:12:05</td>\n",
       "      <td>16.9</td>\n",
       "      <td>1</td>\n",
       "      <td>0 days 00:01:08.000000000</td>\n",
       "    </tr>\n",
       "    <tr>\n",
       "      <td>3</td>\n",
       "      <td>1</td>\n",
       "      <td>0.0</td>\n",
       "      <td>120.0</td>\n",
       "      <td>0.3</td>\n",
       "      <td>0.0</td>\n",
       "      <td>3</td>\n",
       "      <td>2</td>\n",
       "      <td>1</td>\n",
       "      <td>5</td>\n",
       "      <td>0.00</td>\n",
       "      <td>16.26</td>\n",
       "      <td>136.56</td>\n",
       "      <td>2019-01-01 10:14:35</td>\n",
       "      <td>2019-01-01 10:13:44</td>\n",
       "      <td>16.9</td>\n",
       "      <td>1</td>\n",
       "      <td>0 days 00:00:51.000000000</td>\n",
       "    </tr>\n",
       "    <tr>\n",
       "      <td>4</td>\n",
       "      <td>1</td>\n",
       "      <td>0.0</td>\n",
       "      <td>135.0</td>\n",
       "      <td>0.3</td>\n",
       "      <td>0.0</td>\n",
       "      <td>4</td>\n",
       "      <td>1</td>\n",
       "      <td>1</td>\n",
       "      <td>5</td>\n",
       "      <td>33.05</td>\n",
       "      <td>30.00</td>\n",
       "      <td>198.35</td>\n",
       "      <td>2019-01-01 12:49:31</td>\n",
       "      <td>2019-01-01 12:49:12</td>\n",
       "      <td>19.3</td>\n",
       "      <td>1</td>\n",
       "      <td>0 days 00:00:19.000000000</td>\n",
       "    </tr>\n",
       "  </tbody>\n",
       "</table>\n",
       "</div>"
      ],
      "text/plain": [
       "   dolocationid  extra  fare_amount  improvement_surcharge  mta_tax  \\\n",
       "0             1    0.0          2.5                    0.3      0.5   \n",
       "1             1    0.0          0.0                    0.3      0.0   \n",
       "2             1    0.0          0.0                    0.3      0.0   \n",
       "3             1    0.0        120.0                    0.3      0.0   \n",
       "4             1    0.0        135.0                    0.3      0.0   \n",
       "\n",
       "   passenger_count  payment_type  pulocationid  ratecodeid  tip_amount  \\\n",
       "0                3             2             1           1        0.00   \n",
       "1                3             3             1           5        0.00   \n",
       "2                3             3             1           5        0.00   \n",
       "3                3             2             1           5        0.00   \n",
       "4                4             1             1           5       33.05   \n",
       "\n",
       "   tolls_amount  total_amount tpep_dropoff_datetime tpep_pickup_datetime  \\\n",
       "0          0.00          3.30   2019-01-01 10:10:33  2019-01-01 10:10:30   \n",
       "1         16.26         16.56   2019-01-01 10:11:32  2019-01-01 10:10:52   \n",
       "2         16.26         16.56   2019-01-01 10:13:13  2019-01-01 10:12:05   \n",
       "3         16.26        136.56   2019-01-01 10:14:35  2019-01-01 10:13:44   \n",
       "4         30.00        198.35   2019-01-01 12:49:31  2019-01-01 12:49:12   \n",
       "\n",
       "   trip_distance  vendorid                   duration  \n",
       "0           16.9         1  0 days 00:00:03.000000000  \n",
       "1           16.9         1  0 days 00:00:40.000000000  \n",
       "2           16.9         1  0 days 00:01:08.000000000  \n",
       "3           16.9         1  0 days 00:00:51.000000000  \n",
       "4           19.3         1  0 days 00:00:19.000000000  "
      ]
     },
     "execution_count": 3,
     "metadata": {},
     "output_type": "execute_result"
    }
   ],
   "source": [
    "df.head()"
   ]
  },
  {
   "cell_type": "markdown",
   "metadata": {},
   "source": [
    "## Trip Duration"
   ]
  },
  {
   "cell_type": "code",
   "execution_count": 4,
   "metadata": {},
   "outputs": [
    {
     "data": {
      "text/plain": [
       "0        3.0\n",
       "1       40.0\n",
       "2       68.0\n",
       "3       51.0\n",
       "4       19.0\n",
       "5     3173.0\n",
       "6    83072.0\n",
       "7      166.0\n",
       "8        5.0\n",
       "9       87.0\n",
       "Name: duration, dtype: float64"
      ]
     },
     "execution_count": 4,
     "metadata": {},
     "output_type": "execute_result"
    }
   ],
   "source": [
    "trip_dur_secs = pd.to_timedelta(df['duration']).dt.total_seconds()\n",
    "trip_dur_secs.head(10)"
   ]
  },
  {
   "cell_type": "code",
   "execution_count": 5,
   "metadata": {},
   "outputs": [
    {
     "name": "stdout",
     "output_type": "stream",
     "text": [
      "Counter({'short_trip': 1252660, 'medium_trip': 522068, 'long_trip': 48089})\n"
     ]
    },
    {
     "data": {
      "image/png": "[encoded data removed]",
      "text/plain": [
       "<Figure size 432x288 with 1 Axes>"
      ]
     },
     "metadata": {},
     "output_type": "display_data"
    }
   ],
   "source": [
    "trip_dur_mins = trip_dur_secs / 60\n",
    "count_mins = Counter()\n",
    "\n",
    "\"\"\"\n",
    "short_trip: duration less than 20 minutes\n",
    "medium_trip: duration greater than or equal to 20 mins but less than 40 mins\n",
    "long trip: duration greater than or equal to 40 mins but less than 90mins\n",
    "others: duration longer than or equal ot 90mins\n",
    "\"\"\"\n",
    "for dur_mins in trip_dur_mins:\n",
    "    if dur_mins < 15:\n",
    "        count_mins['short_trip'] += 1\n",
    "    elif dur_mins < 40:\n",
    "        count_mins['medium_trip'] += 1\n",
    "    else:\n",
    "        count_mins['long_trip'] += 1\n",
    "\n",
    "print(count_mins)\n",
    "key_value_pairs = count_mins.items()\n",
    "\n",
    "fig, ax = plt.subplots()\n",
    "ax.pie([x[-1] for x in key_value_pairs], labels=[x[0] for x in key_value_pairs], explode=(0.1, 0.1, 0.1), autopct='%1.1f%%')\n",
    "ax.set_title('Trip Duration')\n",
    "plt.show()"
   ]
  },
  {
   "cell_type": "markdown",
   "metadata": {},
   "source": [
    "## Passenger Count"
   ]
  },
  {
   "cell_type": "code",
   "execution_count": 6,
   "metadata": {},
   "outputs": [
    {
     "data": {
      "text/plain": [
       "<matplotlib.axes._subplots.AxesSubplot at 0x1a23e37b50>"
      ]
     },
     "execution_count": 6,
     "metadata": {},
     "output_type": "execute_result"
    },
    {
     "data": {
      "image/png": "[encoded data removed]",
      "text/plain": [
       "<Figure size 432x288 with 1 Axes>"
      ]
     },
     "metadata": {
      "needs_background": "light"
     },
     "output_type": "display_data"
    }
   ],
   "source": [
    "passenger_count = df['passenger_count']\n",
    "passenger_count.plot.hist(bins=np.arange(10), color='g')"
   ]
  },
  {
   "cell_type": "code",
   "execution_count": 7,
   "metadata": {},
   "outputs": [
    {
     "data": {
      "text/plain": [
       "0    3\n",
       "1    3\n",
       "2    3\n",
       "3    3\n",
       "4    4\n",
       "Name: passenger_count, dtype: int64"
      ]
     },
     "execution_count": 7,
     "metadata": {},
     "output_type": "execute_result"
    }
   ],
   "source": [
    "passenger_count.head()"
   ]
  },
  {
   "cell_type": "code",
   "execution_count": 8,
   "metadata": {},
   "outputs": [
    {
     "name": "stdout",
     "output_type": "stream",
     "text": [
      "dict_items([(3, 78928), (4, 36689), (1, 1274605), (2, 275127), (5, 79486), (6, 49961)])\n"
     ]
    },
    {
     "data": {
      "image/png": "[encoded data removed]",
      "text/plain": [
       "<Figure size 432x288 with 1 Axes>"
      ]
     },
     "metadata": {},
     "output_type": "display_data"
    }
   ],
   "source": [
    "# find some rows with 0 or more than 6 passengers, should get rid of them\n",
    "passenger_counter = Counter()\n",
    "for cnt in passenger_count:\n",
    "    if cnt == 0 or cnt >= 7:\n",
    "        continue\n",
    "    passenger_counter[cnt] += 1\n",
    "\n",
    "count_items = passenger_counter.items()\n",
    "print(count_items)\n",
    "\n",
    "fig, ax = plt.subplots()\n",
    "ax.pie([x[-1] for x in count_items], labels=[x[0] for x in count_items], explode=[0.2] * len(count_items), autopct='%1.1f%%')\n",
    "ax.set_title('Passenger Count')\n",
    "plt.show()"
   ]
  },
  {
   "cell_type": "markdown",
   "metadata": {},
   "source": [
    "## Trip Distance"
   ]
  },
  {
   "cell_type": "code",
   "execution_count": 9,
   "metadata": {},
   "outputs": [
    {
     "data": {
      "text/plain": [
       "0    16.90\n",
       "1    16.90\n",
       "2    16.90\n",
       "3    16.90\n",
       "4    19.30\n",
       "5    41.28\n",
       "6     0.11\n",
       "7     1.27\n",
       "8    12.65\n",
       "9    17.70\n",
       "Name: trip_distance, dtype: float64"
      ]
     },
     "execution_count": 9,
     "metadata": {},
     "output_type": "execute_result"
    }
   ],
   "source": [
    "trip_dist = df['trip_distance']\n",
    "trip_dist.head(10)"
   ]
  },
  {
   "cell_type": "code",
   "execution_count": 10,
   "metadata": {},
   "outputs": [
    {
     "data": {
      "text/plain": [
       "count    1.822817e+06\n",
       "mean     2.712756e+00\n",
       "std      3.201634e+00\n",
       "min      1.000000e-02\n",
       "25%      9.900000e-01\n",
       "50%      1.620000e+00\n",
       "75%      3.100000e+00\n",
       "max      1.386400e+02\n",
       "Name: trip_distance, dtype: float64"
      ]
     },
     "execution_count": 10,
     "metadata": {},
     "output_type": "execute_result"
    }
   ],
   "source": [
    "trip_dist.describe()"
   ]
  },
  {
   "cell_type": "code",
   "execution_count": 11,
   "metadata": {},
   "outputs": [
    {
     "data": {
      "image/png": "[encoded data removed]",
      "text/plain": [
       "<Figure size 432x288 with 1 Axes>"
      ]
     },
     "metadata": {
      "needs_background": "light"
     },
     "output_type": "display_data"
    }
   ],
   "source": [
    "trip_dist_counter = defaultdict(list)\n",
    "\n",
    "for d in trip_dist:\n",
    "    # only consider trip distance less than 30 miles\n",
    "    if d < 5:\n",
    "        trip_dist_counter['<5'].append(d)\n",
    "    elif d < 10:\n",
    "        trip_dist_counter['5-10'].append(d)\n",
    "    elif d < 20:\n",
    "        trip_dist_counter['10-20'].append(d)\n",
    "    elif d <= 30:\n",
    "        trip_dist_counter['<30'].append(d)\n",
    "\n",
    "dist_items = sorted(trip_dist_counter.items(), key=lambda x:x[-1])\n",
    "plt.boxplot([x[-1] for x in dist_items], labels=[x[0] for x in dist_items])\n",
    "plt.show()"
   ]
  },
  {
   "cell_type": "code",
   "execution_count": 12,
   "metadata": {},
   "outputs": [
    {
     "name": "stdout",
     "output_type": "stream",
     "text": [
      "{'10-20': 61861, '<5': 1587594, '5-10': 166061, '<30': 6687}\n"
     ]
    },
    {
     "data": {
      "image/png": "[encoded data removed]",
      "text/plain": [
       "<Figure size 432x288 with 1 Axes>"
      ]
     },
     "metadata": {},
     "output_type": "display_data"
    }
   ],
   "source": [
    "trip_dist_counter2 = {}\n",
    "for k in trip_dist_counter:\n",
    "    trip_dist_counter2[k] = len(trip_dist_counter[k])\n",
    "\n",
    "print(trip_dist_counter2)\n",
    "    \n",
    "count_items = trip_dist_counter2.items()\n",
    "fig, ax = plt.subplots()\n",
    "ax.pie([x[-1] for x in count_items], labels=[x[0] for x in count_items], explode=[0.2] * len(count_items), autopct='%1.1f%%')\n",
    "ax.set_title('Trip Distance')\n",
    "plt.show()"
   ]
  },
  {
   "cell_type": "code",
   "execution_count": 13,
   "metadata": {},
   "outputs": [
    {
     "data": {
      "text/plain": [
       "<matplotlib.axes._subplots.AxesSubplot at 0x1a24281c50>"
      ]
     },
     "execution_count": 13,
     "metadata": {},
     "output_type": "execute_result"
    },
    {
     "data": {
      "image/png": "[encoded data removed]",
      "text/plain": [
       "<Figure size 432x288 with 1 Axes>"
      ]
     },
     "metadata": {
      "needs_background": "light"
     },
     "output_type": "display_data"
    }
   ],
   "source": [
    "trip_dist_mean = trip_dist.mean()\n",
    "trip_dist_std = trip_dist.std()\n",
    "\n",
    "# remove outliers based on 3-sigma rule\n",
    "trip_dist = trip_dist[(trip_dist - trip_dist_mean).abs() < 3 * trip_dist_std]\n",
    "trip_dist.plot.hist()  # should focus on trips with distance less than 8 miles"
   ]
  },
  {
   "cell_type": "code",
   "execution_count": 14,
   "metadata": {},
   "outputs": [
    {
     "data": {
      "image/png": "[encoded data removed]",
      "text/plain": [
       "<Figure size 432x288 with 1 Axes>"
      ]
     },
     "metadata": {
      "needs_background": "light"
     },
     "output_type": "display_data"
    }
   ],
   "source": [
    "# log-normal fit\n",
    "shape, location, scale = lognorm.fit(trip_dist, scale=trip_dist_mean, loc=0)\n",
    "normed = lognorm.pdf(np.arange(9), shape, location, scale)\n",
    "plt.plot(np.arange(9), normed)\n",
    "plt.show()"
   ]
  },
  {
   "cell_type": "markdown",
   "metadata": {},
   "source": [
    "## Rate Code\n",
    "RateCodeID: The final rate code in effect at the end of the trip.(1= Standard rate 2=JFK 3=Newark 4=Nassau or Westchester 5=Negotiated fare 6=Group ride)"
   ]
  },
  {
   "cell_type": "code",
   "execution_count": 15,
   "metadata": {},
   "outputs": [
    {
     "name": "stdout",
     "output_type": "stream",
     "text": [
      "Counter({1: 1780593, 5: 19004, 2: 18885, 3: 3922, 4: 387, 99: 22, 6: 4})\n"
     ]
    }
   ],
   "source": [
    "rate_code = df['ratecodeid']\n",
    "rate_code_counter = Counter(rate_code)\n",
    "print(rate_code_counter)"
   ]
  },
  {
   "cell_type": "code",
   "execution_count": 16,
   "metadata": {},
   "outputs": [
    {
     "name": "stdout",
     "output_type": "stream",
     "text": [
      "97.684% trips are Standard\n",
      "1.043% trips are Negotiated Fare\n",
      "1.036% trips are JFK\n",
      "0.215% trips are Newark\n",
      "0.021% trips are Nassau or Westchester\n",
      "0.001% trips are others\n",
      "0.0% trips are Group Ride\n"
     ]
    }
   ],
   "source": [
    "code_map = {\n",
    "    1: 'Standard',\n",
    "    2: 'JFK',\n",
    "    3: 'Newark',\n",
    "    4: 'Nassau or Westchester',\n",
    "    5: 'Negotiated Fare',\n",
    "    6: 'Group Ride',\n",
    "    99: 'others'\n",
    "}\n",
    "\n",
    "total = sum(rate_code_counter.values())\n",
    "for k, v in rate_code_counter.items():\n",
    "    percentile = 100 * v / total\n",
    "    print(\"{}% trips are {}\".format(round(percentile, 3), code_map[k]))"
   ]
  },
  {
   "cell_type": "code",
   "execution_count": 17,
   "metadata": {},
   "outputs": [
    {
     "data": {
      "image/png": "[encoded data removed]",
      "text/plain": [
       "<Figure size 432x288 with 1 Axes>"
      ]
     },
     "metadata": {
      "needs_background": "light"
     },
     "output_type": "display_data"
    }
   ],
   "source": [
    "df_rate_code = pd.DataFrame(rate_code_counter.values(), index=rate_code_counter.keys())\n",
    "ax = df_rate_code.plot.bar(rot=0)"
   ]
  },
  {
   "cell_type": "code",
   "execution_count": null,
   "metadata": {},
   "outputs": [],
   "source": []
  }
 ],
 "metadata": {
  "kernelspec": {
   "display_name": "Python 3",
   "language": "python",
   "name": "python3"
  },
  "language_info": {
   "codemirror_mode": {
    "name": "ipython",
    "version": 3
   },
   "file_extension": ".py",
   "mimetype": "text/x-python",
   "name": "python",
   "nbconvert_exporter": "python",
   "pygments_lexer": "ipython3",
   "version": "3.7.4"
  }
 },
 "nbformat": 4,
 "nbformat_minor": 2
}
