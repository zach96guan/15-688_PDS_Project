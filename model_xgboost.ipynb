{
 "cells": [
  {
   "cell_type": "code",
   "execution_count": 46,
   "metadata": {},
   "outputs": [],
   "source": [
    "import csv\n",
    "import datetime\n",
    "import pandas as pd\n",
    "import numpy as np\n",
    "import random\n",
    "import matplotlib.pyplot as plt\n",
    "import xgboost as xgb\n",
    "import math\n",
    "\n",
    "from datetime import datetime, timedelta\n",
    "from sklearn.metrics import mean_squared_error, r2_score\n",
    "from sklearn.model_selection import cross_validate\n",
    "from sklearn.model_selection import learning_curve,GridSearchCV,RandomizedSearchCV\n",
    "from sklearn.model_selection import StratifiedKFold"
    "from sklearn.linear_model import LinearRegression, Ridge, Lasso, ElasticNet\n",
    "from sklearn.ensemble import RandomForestRegressor, GradientBoostingRegressor\n",
    "from tensorflow import keras\n",
    "from tensorflow.keras import models, optimizers\n",
    "from tensorflow.keras.layers import Dense, BatchNormalization"
   ]
  },
  {
   "cell_type": "markdown",
   "metadata": {},
   "source": [
    "## XGBoost"
   ]
  },
  {
   "cell_type": "code",
   "execution_count": 95,
   "metadata": {},
   "outputs": [],
   "source": [
    "def build_xgboost_model(X_train, y_train, params):\n",
    "    \"\"\"\n",
    "    Return: xgboost model\n",
    "    \"\"\"\n",
    "    model = xgb.XGBRegressor(\n",
    "        learning_rate=params['learning_rate'],\n",
    "        n_estimators=params['n_estimators'],\n",
    "        booster=params['booster'],\n",
    "        objective=params['objective'],\n",
    "        n_jobs=-1,\n",
    "        subsample=params['subsample'],\n",
    "        colsample_bytree=params['colsample_bytree'],\n",
    "        random_state=0,\n",
    "        max_depth=params['max_depth'],\n",
    "        gamma=params['gamma'],\n",
    "        min_child_weight=params['min_child_weight'],\n",
    "        reg_alpha=params['reg_alpha'],\n",
    "        verbosity=params['verbosity']\n",
    "        \n",
    "    )\n",
    "    return model.fit(X_train, y_train)"
   ]
  },
  {
   "cell_type": "code",
   "execution_count": 96,
   "metadata": {},
   "outputs": [],
   "source": [
    "def prediction(model, X_test):\n",
    "    y_pred = model.predict(X_test)\n",
    "    return y_pred"
   ]
  },
  {
   "cell_type": "code",
   "execution_count": 97,
   "metadata": {},
   "outputs": [],
   "source": [
    "def get_rmse(y_true, y_pred):\n",
    "    mse = mean_squared_error(y_true, y_pred)\n",
    "    rmse = math.sqrt(mse)\n",
    "    return rmse"
   ]
  },
  {
   "cell_type": "code",
   "execution_count": 19,
   "metadata": {},
   "outputs": [],
   "source": [
    "def read_from_csv(path):\n",
    "    df = pd.read_csv(path, index_col=0)\n",
    "    return df"
   ]
  },
  {
   "cell_type": "code",
   "execution_count": 91,
   "metadata": {},
   "outputs": [
    {
     "data": {
      "text/plain": [
       "(956868, 239217)"
      ]
     },
     "execution_count": 91,
     "metadata": {},
     "output_type": "execute_result"
    }
   ],
   "source": [
    "train_path = './data/train.csv'\n",
    "test_path = './data/test.csv'\n",
    "\n",
    "X_train, X_test = read_from_csv(train_path, ), read_from_csv(test_path)\n",
    "len(X_train), len(X_test)"
   ]
  },
  {
   "cell_type": "code",
   "execution_count": 92,
   "metadata": {},
   "outputs": [],
   "source": [
    "y_train, y_test = pd.DataFrame(X_train['duration']), pd.DataFrame(X_test['duration'])\n",
    "\n",
    "X_train.drop(columns=['duration'], inplace=True)\n",
    "X_test.drop(columns=['duration'], inplace=True)\n",
    "\n",
    "# drop the datetime type columns\n",
    "X_train.drop(columns=['tpep_dropoff_datetime', 'tpep_pickup_datetime'], inplace=True)\n",
    "X_test.drop(columns=['tpep_dropoff_datetime', 'tpep_pickup_datetime'], inplace=True)"
   ]
  },
  {
   "cell_type": "code",
   "execution_count": 105,
   "metadata": {},
   "outputs": [],
   "source": [
    "params = { \n",
    "    'booster': 'gbtree',\n",
    "    'objective':'reg:squarederror',\n",
    "    'learning_rate': 0.2,\n",
    "    'n_estimators': 200,\n",
    "    'gamma': 0.3,                  # control pruning\n",
    "    'max_depth':5 ,               \n",
    "    'lambda': 2,                   # L2 parameter\n",
    "    'subsample': 0.8,              # random sample \n",
    "    'colsample_bytree': 0.7,       # col sample when generate tree\n",
    "    'min_child_weight': 1,\n",
    "    'reg_alpha': 0,\n",
    "    'verbosity':1\n",
    "}"
   ]
  },
  {
   "cell_type": "code",
   "execution_count": 99,
   "metadata": {},
   "outputs": [
    {
     "name": "stdout",
     "output_type": "stream",
     "text": [
      "[22:10:07] WARNING: src/objective/regression_obj.cu:152: reg:linear is now deprecated in favor of reg:squarederror.\n"
     ]
    }
   ],
   "source": [
    "model_xgboost = build_xgboost_model(X_train, y_train, params)"
   ]
  },
  {
   "cell_type": "code",
   "execution_count": 100,
   "metadata": {},
   "outputs": [
    {
     "name": "stdout",
     "output_type": "stream",
     "text": [
      "Train Loss: 1.4535075544962008\n"
     ]
    }
   ],
   "source": [
    "# Train\n",
    "y_pred = prediction(model_xgboost, X_train)\n",
    "\n",
    "train_loss = get_rmse(y_train, y_pred)\n",
    "print(\"Train Loss: {}\".format(train_loss))"
   ]
  },
  {
   "cell_type": "code",
   "execution_count": 101,
   "metadata": {},
   "outputs": [
    {
     "name": "stdout",
     "output_type": "stream",
     "text": [
      "Test Loss: 1.4673157355837458\n"
     ]
    }
   ],
   "source": [
    "# Test\n",
    "y_pred = prediction(model_xgboost, X_test)\n",
    "\n",
    "test_loss = get_rmse(y_test, y_pred)\n",
    "print(\"Test Loss: {}\".format(test_loss))"
   ]
  },
  {
   "cell_type": "markdown",
   "metadata": {},
   "source": [
    "## Linear Regression"
   ]
  },
  {
   "cell_type": "code",
   "execution_count": 18,
   "metadata": {},
   "outputs": [],
   "source": [
    "model_lr = LinearRegression().fit(X_train, y_train)\n",
    "model_ridge = Ridge().fit(X_train, y_train)\n",
    "model_lasso = Lasso().fit(X_train, y_train)\n",
    "model_elasticnet = ElasticNet().fit(X_train, y_train)"
   ]
  },
  {
   "cell_type": "code",
   "execution_count": 19,
   "metadata": {},
   "outputs": [
    {
     "name": "stdout",
     "output_type": "stream",
     "text": [
      "Train Loss for Linear Regression: 1.7834776609741771\n",
      "Train Loss for Ridge Regression: 1.783531230312074\n",
      "Train Loss for Lasso Regression: 2.5064942394275147\n",
      "Train Loss for Elastic_Net Regression: 2.898159245422226\n"
     ]
    }
   ],
   "source": [
    "# Train\n",
    "y_pred1 = prediction(model_lr, X_train)\n",
    "y_pred2 = prediction(model_ridge, X_train)\n",
    "y_pred3 = prediction(model_lasso, X_train)\n",
    "y_pred4 = prediction(model_elasticnet, X_train)\n",
    "\n",
    "train_loss1 = get_rmse(y_train, y_pred1)\n",
    "train_loss2 = get_rmse(y_train, y_pred2)\n",
    "train_loss3 = get_rmse(y_train, y_pred3)\n",
    "train_loss4 = get_rmse(y_train, y_pred4)\n",
    "\n",
    "print(\"Train Loss for Linear Regression: {}\".format(train_loss1))\n",
    "print(\"Train Loss for Ridge Regression: {}\".format(train_loss2))\n",
    "print(\"Train Loss for Lasso Regression: {}\".format(train_loss3))\n",
    "print(\"Train Loss for Elastic_Net Regression: {}\".format(train_loss4))"
   ]
  },
  {
   "cell_type": "code",
   "execution_count": 21,
   "metadata": {},
   "outputs": [
    {
     "name": "stdout",
     "output_type": "stream",
     "text": [
      "Test Loss for Linear Regression: 1.744762446460397\n",
      "Test Loss for Ridge Regression: 1.7447454967159297\n",
      "Test Loss for Lasso Regression: 2.4785914911596416\n",
      "Test Loss for Elastic_Net Regression: 2.872007197362613\n"
     ]
    }
   ],
   "source": [
    "# Test\n",
    "y_pred1 = prediction(model_lr, X_test)\n",
    "y_pred2 = prediction(model_ridge, X_test)\n",
    "y_pred3 = prediction(model_lasso, X_test)\n",
    "y_pred4 = prediction(model_elasticnet, X_test)\n",
    "\n",
    "test_loss1 = get_rmse(y_test, y_pred1)\n",
    "test_loss2 = get_rmse(y_test, y_pred2)\n",
    "test_loss3 = get_rmse(y_test, y_pred3)\n",
    "test_loss4 = get_rmse(y_test, y_pred4)\n",
    "\n",
    "print(\"Test Loss for Linear Regression: {}\".format(test_loss1))\n",
    "print(\"Test Loss for Ridge Regression: {}\".format(test_loss2))\n",
    "print(\"Test Loss for Lasso Regression: {}\".format(test_loss3))\n",
    "print(\"Test Loss for Elastic_Net Regression: {}\".format(test_loss4))"
   ]
  },
  {
   "cell_type": "markdown",
   "metadata": {},
   "source": [
    "## Random Forest"
   ]
  },
  {
   "cell_type": "code",
   "execution_count": 30,
   "metadata": {},
   "outputs": [
    {
     "name": "stderr",
     "output_type": "stream",
     "text": [
      "/Users/zachguan/opt/anaconda3/lib/python3.7/site-packages/sklearn/ensemble/forest.py:245: FutureWarning: The default value of n_estimators will change from 10 in version 0.20 to 100 in 0.22.\n",
      "  \"10 in version 0.20 to 100 in 0.22.\", FutureWarning)\n",
      "/Users/zachguan/opt/anaconda3/lib/python3.7/site-packages/ipykernel_launcher.py:1: DataConversionWarning: A column-vector y was passed when a 1d array was expected. Please change the shape of y to (n_samples,), for example using ravel().\n",
      "  \"\"\"Entry point for launching an IPython kernel.\n",
      "[Parallel(n_jobs=-1)]: Using backend ThreadingBackend with 8 concurrent workers.\n",
      "[Parallel(n_jobs=-1)]: Done   6 out of  10 | elapsed:    4.7s remaining:    3.2s\n",
      "[Parallel(n_jobs=-1)]: Done  10 out of  10 | elapsed:    7.1s finished\n"
     ]
    }
   ],
   "source": [
    "model_rf = RandomForestRegressor(n_jobs=-1, max_depth=10, verbose=True).fit(X_train, y_train)"
   ]
  },
  {
   "cell_type": "code",
   "execution_count": 28,
   "metadata": {},
   "outputs": [
    {
     "name": "stdout",
     "output_type": "stream",
     "text": [
      "Train Loss: 1.5200744770103742\n"
     ]
    }
   ],
   "source": [
    "# Train\n",
    "y_pred = prediction(model_rf, X_train)\n",
    "\n",
    "train_loss = get_rmse(y_train, y_pred)\n",
    "print(\"Train Loss: {}\".format(train_loss))"
   ]
  },
  {
   "cell_type": "code",
   "execution_count": 29,
   "metadata": {},
   "outputs": [
    {
     "name": "stdout",
     "output_type": "stream",
     "text": [
      "Test Loss: 1.5273254216585341\n"
     ]
    }
   ],
   "source": [
    "# Test\n",
    "y_pred = prediction(model_rf, X_test)\n",
    "\n",
    "test_loss = get_rmse(y_test, y_pred)\n",
    "print(\"Test Loss: {}\".format(test_loss))"
   ]
  },
  {
   "cell_type": "markdown",
   "metadata": {},
   "source": [
    "## Gradient Boost"
   ]
  },
  {
   "cell_type": "code",
   "execution_count": 33,
   "metadata": {},
   "outputs": [
    {
     "name": "stderr",
     "output_type": "stream",
     "text": [
      "/Users/zachguan/opt/anaconda3/lib/python3.7/site-packages/sklearn/ensemble/gradient_boosting.py:1450: DataConversionWarning: A column-vector y was passed when a 1d array was expected. Please change the shape of y to (n_samples, ), for example using ravel().\n",
      "  y = column_or_1d(y, warn=True)\n"
     ]
    },
    {
     "name": "stdout",
     "output_type": "stream",
     "text": [
      "      Iter       Train Loss   Remaining Time \n",
      "         1          65.7238            1.68m\n",
      "         2          56.2108            1.55m\n",
      "         3          48.4159            1.52m\n",
      "         4          42.0633            1.48m\n",
      "         5          36.8935            1.47m\n",
      "         6          32.6818            1.45m\n",
      "         7          29.1248            1.44m\n",
      "         8          26.1859            1.42m\n",
      "         9          23.6727            1.42m\n",
      "        10          21.4780            1.40m\n",
      "        20          10.9473            1.22m\n",
      "        30           7.8073            1.02m\n",
      "        40           6.4758           50.45s\n",
      "        50           5.6147           41.87s\n",
      "        60           4.9283           33.14s\n",
      "        70           4.3693           24.68s\n",
      "        80           3.8991           16.35s\n",
      "        90           3.5239            8.14s\n",
      "       100           3.2567            0.00s\n"
     ]
    }
   ],
   "source": [
    "model_gb = GradientBoostingRegressor(verbose=True).fit(X_train, y_train)"
   ]
  },
  {
   "cell_type": "code",
   "execution_count": 34,
   "metadata": {},
   "outputs": [
    {
     "name": "stdout",
     "output_type": "stream",
     "text": [
      "Train Loss: 1.8046357118881458\n"
     ]
    }
   ],
   "source": [
    "# Train\n",
    "y_pred = prediction(model_gb, X_train)\n",
    "\n",
    "train_loss = get_rmse(y_train, y_pred)\n",
    "print(\"Train Loss: {}\".format(train_loss))"
   ]
  },
  {
   "cell_type": "code",
   "execution_count": 35,
   "metadata": {},
   "outputs": [
    {
     "name": "stdout",
     "output_type": "stream",
     "text": [
      "Test Loss: 1.7724299167621502\n"
     ]
    }
   ],
   "source": [
    "# Test\n",
    "y_pred = prediction(model_gb, X_test)\n",
    "\n",
    "test_loss = get_rmse(y_test, y_pred)\n",
    "print(\"Test Loss: {}\".format(test_loss))"
   ]
  },
  {
   "cell_type": "markdown",
   "metadata": {},
   "source": [
    "## Grid Search "
    "## Neural Networks"
   ]
  },
  {
   "cell_type": "code",
   "execution_count": 65,
   "metadata": {},
   "outputs": [],
   "source": [
    "model_nn = models.Sequential()\n",
    "model_nn.add(Dense(256, activation='relu', input_shape=(X_train.shape[1],)))\n",
    "model_nn.add(BatchNormalization())\n",
    "model_nn.add(Dense(128, activation='relu'))\n",
    "model_nn.add(BatchNormalization())\n",
    "model_nn.add(Dense(64, activation='relu'))\n",
    "model_nn.add(BatchNormalization())\n",
    "model_nn.add(Dense(32, activation='relu'))\n",
    "model_nn.add(BatchNormalization())\n",
    "model_nn.add(Dense(8, activation='relu'))\n",
    "model_nn.add(BatchNormalization())\n",
    "model_nn.add(Dense(1))\n",
    "\n",
    "optimizer = optimizers.Adam(lr=1e-4)\n",
    "model_nn.compile(loss='mse', optimizer=optimizer, metrics=['mae'])"
   ]
  },
  {
   "cell_type": "code",
   "execution_count": 66,
   "metadata": {},
   "outputs": [
    {
     "name": "stdout",
     "output_type": "stream",
     "text": [
      "Model: \"sequential_13\"\n",
      "_________________________________________________________________\n",
      "Layer (type)                 Output Shape              Param #   \n",
      "=================================================================\n",
      "dense_39 (Dense)             (None, 256)               3840      \n",
      "_________________________________________________________________\n",
      "batch_normalization_26 (Batc (None, 256)               1024      \n",
      "_________________________________________________________________\n",
      "dense_40 (Dense)             (None, 128)               32896     \n",
      "_________________________________________________________________\n",
      "batch_normalization_27 (Batc (None, 128)               512       \n",
      "_________________________________________________________________\n",
      "dense_41 (Dense)             (None, 64)                8256      \n",
      "_________________________________________________________________\n",
      "batch_normalization_28 (Batc (None, 64)                256       \n",
      "_________________________________________________________________\n",
      "dense_42 (Dense)             (None, 32)                2080      \n",
      "_________________________________________________________________\n",
      "batch_normalization_29 (Batc (None, 32)                128       \n",
      "_________________________________________________________________\n",
      "dense_43 (Dense)             (None, 8)                 264       \n",
      "_________________________________________________________________\n",
      "batch_normalization_30 (Batc (None, 8)                 32        \n",
      "_________________________________________________________________\n",
      "dense_44 (Dense)             (None, 1)                 9         \n",
      "=================================================================\n",
      "Total params: 49,297\n",
      "Trainable params: 48,321\n",
      "Non-trainable params: 976\n",
      "_________________________________________________________________\n"
     ]
    }
   ],
   "source": [
    "model_nn.summary()"
   ]
  },
  {
   "cell_type": "code",
   "execution_count": 71,
   "metadata": {},
   "outputs": [
    {
     "name": "stdout",
     "output_type": "stream",
     "text": [
      "WARNING:tensorflow:Falling back from v2 loop because of error: Failed to find data adapter that can handle input: <class 'pandas.core.frame.DataFrame'>, <class 'NoneType'>\n",
      "Train on 956868 samples, validate on 239217 samples\n",
      "Epoch 1/20\n",
      "956868/956868 [==============================] - 57s 59us/sample - loss: 230.6187 - mae: 14.4162 - val_loss: 214.8208 - val_mae: 14.3211\n",
      "Epoch 2/20\n",
      "956868/956868 [==============================] - 54s 56us/sample - loss: 169.3922 - mae: 12.7820 - val_loss: 145.8420 - val_mae: 11.9619\n",
      "Epoch 3/20\n",
      "956868/956868 [==============================] - 55s 57us/sample - loss: 116.2642 - mae: 10.6140 - val_loss: 91.2925 - val_mae: 9.4335\n",
      "Epoch 4/20\n",
      "956868/956868 [==============================] - 54s 56us/sample - loss: 66.9726 - mae: 7.9651 - val_loss: 43.3302 - val_mae: 6.4105\n",
      "Epoch 5/20\n",
      "956868/956868 [==============================] - 53s 55us/sample - loss: 29.1274 - mae: 5.0722 - val_loss: 15.5662 - val_mae: 3.6623\n",
      "Epoch 6/20\n",
      "956868/956868 [==============================] - 52s 55us/sample - loss: 8.6002 - mae: 2.4167 - val_loss: 2.8310 - val_mae: 1.0664\n",
      "Epoch 7/20\n",
      "956868/956868 [==============================] - 52s 55us/sample - loss: 3.0629 - mae: 1.0777 - val_loss: 2.4077 - val_mae: 0.9155\n",
      "Epoch 8/20\n",
      "956868/956868 [==============================] - 52s 55us/sample - loss: 2.6741 - mae: 0.9513 - val_loss: 2.3285 - val_mae: 0.8736\n",
      "Epoch 9/20\n",
      "956868/956868 [==============================] - 52s 55us/sample - loss: 2.6518 - mae: 0.9478 - val_loss: 2.6283 - val_mae: 0.9550\n",
      "Epoch 10/20\n",
      "956868/956868 [==============================] - 52s 55us/sample - loss: 2.6144 - mae: 0.9393 - val_loss: 2.2554 - val_mae: 0.8499\n",
      "Epoch 11/20\n",
      "956868/956868 [==============================] - 53s 55us/sample - loss: 2.6024 - mae: 0.9363 - val_loss: 2.2819 - val_mae: 0.8505\n",
      "Epoch 12/20\n",
      "956868/956868 [==============================] - 53s 55us/sample - loss: 2.5741 - mae: 0.9268 - val_loss: 2.3877 - val_mae: 0.9057\n",
      "Epoch 13/20\n",
      "956868/956868 [==============================] - 53s 55us/sample - loss: 2.5514 - mae: 0.9235 - val_loss: 2.2001 - val_mae: 0.8187\n",
      "Epoch 14/20\n",
      "956868/956868 [==============================] - 53s 55us/sample - loss: 2.5371 - mae: 0.9168 - val_loss: 2.3016 - val_mae: 0.8730\n",
      "Epoch 15/20\n",
      "956868/956868 [==============================] - 52s 55us/sample - loss: 2.5367 - mae: 0.9170 - val_loss: 2.2103 - val_mae: 0.8156\n",
      "Epoch 16/20\n",
      "956868/956868 [==============================] - 52s 55us/sample - loss: 2.5317 - mae: 0.9170 - val_loss: 2.5379 - val_mae: 0.9510\n",
      "Epoch 17/20\n",
      "956868/956868 [==============================] - 53s 55us/sample - loss: 2.5220 - mae: 0.9136 - val_loss: 2.1769 - val_mae: 0.8014\n",
      "Epoch 18/20\n",
      "956868/956868 [==============================] - 53s 55us/sample - loss: 2.5103 - mae: 0.9098 - val_loss: 2.2066 - val_mae: 0.8231\n",
      "Epoch 19/20\n",
      "956868/956868 [==============================] - 53s 55us/sample - loss: 2.5044 - mae: 0.9083 - val_loss: 2.2569 - val_mae: 0.8334\n",
      "Epoch 20/20\n",
      "956868/956868 [==============================] - 53s 55us/sample - loss: 2.5016 - mae: 0.9096 - val_loss: 2.6097 - val_mae: 0.9945\n"
     ]
    }
   ],
   "source": [
    "history = model_nn.fit(x=X_train,\n",
    "                    y=y_train,\n",
    "                    batch_size=512,\n",
    "                    epochs=20,\n",
    "                    verbose=1,\n",
    "                    validation_data=(X_test, y_test), \n",
    "                    shuffle=True)"
   ]
  },
  {
   "cell_type": "code",
   "execution_count": 73,
   "metadata": {},
   "outputs": [
    {
     "data": {
      "image/png": "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\n",
      "text/plain": [
       "<Figure size 432x288 with 1 Axes>"
      ]
     },
     "metadata": {
      "needs_background": "light"
     },
     "output_type": "display_data"
    }
   ],
   "source": [
    "train_loss = history.history['loss']\n",
    "test_loss = history.history['val_loss']\n",
    "\n",
    "epochs = np.arange(len(train_loss))\n",
    "plt.plot(epochs, train_loss, 'r')\n",
    "plt.plot(epochs, test_loss, 'b')\n",
    "plt.legend(['Train Loss', 'Test Loss'])\n",
    "plt.xlabel('Epochs')\n",
    "plt.ylabel('Loss')\n",
    "plt.show()"
   ]
  },
  {
   "cell_type": "code",
   "execution_count": null,
   "metadata": {},
   "outputs": [
    {
     "name": "stdout",
     "output_type": "stream",
     "text": [
      "Fitting 5 folds for each of 45 candidates, totalling 225 fits\n",
      "[CV] gamma=0.5, learning_rate=0.1, n_estimators=100 ..................\n"
     ]
    },
    {
     "name": "stderr",
     "output_type": "stream",
     "text": [
      "[Parallel(n_jobs=1)]: Using backend SequentialBackend with 1 concurrent workers.\n"
     ]
    },
    {
     "name": "stdout",
     "output_type": "stream",
     "text": [
      "[CV] ... gamma=0.5, learning_rate=0.1, n_estimators=100, total= 1.6min\n",
      "[CV] gamma=0.5, learning_rate=0.1, n_estimators=100 ..................\n"
     ]
    },
    {
     "name": "stderr",
     "output_type": "stream",
     "text": [
      "[Parallel(n_jobs=1)]: Done   1 out of   1 | elapsed:  1.6min remaining:    0.0s\n"
     ]
    },
    {
     "name": "stdout",
     "output_type": "stream",
     "text": [
      "[CV] ... gamma=0.5, learning_rate=0.1, n_estimators=100, total= 1.2min\n",
      "[CV] gamma=0.5, learning_rate=0.1, n_estimators=100 ..................\n"
     ]
    }
   ],
   "source": [
    "# A parameter grid for XGBoost\n",
    "# params = { \n",
    "#     'booster': 'gbtree',\n",
    "#     'objective':'reg:squarederror',\n",
    "#     'learning_rate': 0.2,\n",
    "#     'n_estimators': 200,  \n",
    "#     'gamma': 0.3,                  # control pruning\n",
    "#     'max_depth':5 ,               \n",
    "#     'lambda': 2,                   # L2 parameter\n",
    "#     'subsample': 0.8,              # random sample \n",
    "#     'colsample_bytree': 0.7,       # col sample when generate tree\n",
    "#     'min_child_weight': 1,\n",
    "#     'reg_alpha': 0,\n",
    "#     'verbosity':1\n",
    "# }\n",
    "\n",
    "params = {\n",
    "        'booster': 'gbtree',\n",
    "        'objective':'reg:squarederror',\n",
    "        'max_depth': 5,\n",
    "        'lambda': 2,                   # L2 parameter\n",
    "        'subsample': 0.8,              # random sample \n",
    "        'colsample_bytree': 0.7,       # col sample when generate tree\n",
    "        'min_child_weight': 1,\n",
    "        'reg_alpha': 0,\n",
    "        'verbosity':1\n",
    "        }\n",
    "search_params={\n",
    "        'learning_rate': [0.1, 0.2, 0.3],\n",
    "        'n_estimators': [100, 200, 300], \n",
    "        'gamma': [0.5, 1, 1.5, 2, 5],\n",
    "}\n",
    "\n",
    "model = xgb.XGBRegressor(\n",
    "        booster=params['booster'],\n",
    "        objective=params['objective'],\n",
    "        n_jobs=-1,\n",
    "        subsample=params['subsample'],\n",
    "        colsample_bytree=params['colsample_bytree'],\n",
    "        random_state=0,\n",
    "        max_depth=params['max_depth'],\n",
    "        min_child_weight=params['min_child_weight'],\n",
    "        reg_alpha=params['reg_alpha'],\n",
    "        verbosity=params['verbosity']\n",
    "    )\n",
    "\n",
    "# folds = 3\n",
    "# param_comb = 3\n",
    "\n",
    "# skf = StratifiedKFold(n_splits=folds, shuffle = True, random_state = 1001)\n",
    "\n",
    "# random_search = RandomizedSearchCV(model, \n",
    "#                                    param_distributions=search_params, \n",
    "#                                    n_iter=param_comb, \n",
    "#                                    n_jobs=-1, \n",
    "#                                    cv=skf.split(X_train,y_train), \n",
    "#                                    verbose=3, \n",
    "#                                    random_state=1001,\n",
    "                                    \n",
    "#                                   )\n",
    "\n",
    "# # Here we go\n",
    "# random_search.fit(X_train, y_train)\n",
    "gs = GridSearchCV(model, search_params, scoring=\"neg_mean_absolute_error\", cv=5, verbose=2)\n",
    "gs.fit(X_train, y_train)\n",
    "print(gs.grid_scores_, gs.best_params_, gs.best_score_)"
   ]
  },
  {
   "cell_type": "markdown",
   "metadata": {},
   "source": [
    "## Feature Importance"
   ]
  },
  {
   "cell_type": "code",
   "execution_count": 103,
   "metadata": {},
   "outputs": [
    {
     "data": {
      "text/plain": [
       "<matplotlib.axes._subplots.AxesSubplot at 0x124da6910>"
      ]
     },
     "execution_count": 103,
     "metadata": {},
     "output_type": "execute_result"
    },
    {
     "data": {
      "image/png": "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\n",
      "text/plain": [
       "<Figure size 432x288 with 1 Axes>"
      ]
     },
     "metadata": {
      "needs_background": "light"
     },
     "output_type": "display_data"
    }
   ],
   "source": [
    "xgb.plot_importance(model, importance_type = 'weight')"
   "outputs": [],
   "source": [
    "# y_pred = model_nn.predict(X_test, batch_size=128, verbose=1)"
   ]
 ],
 "metadata": {
  "kernelspec": {
   "display_name": "Python 3",
   "language": "python",
   "name": "python3"
  },
  "language_info": {
   "codemirror_mode": {
    "name": "ipython",
    "version": 3
   },
   "file_extension": ".py",
   "mimetype": "text/x-python",
   "name": "python",
   "nbconvert_exporter": "python",
   "pygments_lexer": "ipython3",
   "version": "3.7.4"
  }
 },
 "nbformat": 4,
 "nbformat_minor": 2
}
