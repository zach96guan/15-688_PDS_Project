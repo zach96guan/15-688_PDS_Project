{
 "cells": [
  {
   "cell_type": "code",
   "execution_count": 1,
   "metadata": {},
   "outputs": [],
   "source": [
    "import csv\n",
    "import datetime\n",
    "import pandas as pd\n",
    "import numpy as np\n",
    "import random\n",
    "import matplotlib.pyplot as plt\n",
    "import xgboost as xgb\n",
    "import math\n",
    "\n",
    "from datetime import datetime, timedelta\n",
    "from sklearn.metrics import mean_squared_error, r2_score\n",
    "from sklearn.linear_model import LinearRegression, Ridge, Lasso, ElasticNet\n",
    "from sklearn.model_selection import GridSearchCV, train_test_split\n",
    "\n",
    "from sklearn.ensemble import RandomForestRegressor, GradientBoostingRegressor\n",
    "from tensorflow import keras\n",
    "from tensorflow.keras import models, optimizers\n",
    "from tensorflow.keras.layers import Dense, BatchNormalization"
   ]
  },
  {
   "cell_type": "code",
   "execution_count": 2,
   "metadata": {},
   "outputs": [],
   "source": [
    "def read_from_csv(path):\n",
    "    df = pd.read_csv(path, index_col=0)\n",
    "    return df"
   ]
  },
  {
   "cell_type": "code",
   "execution_count": 3,
   "metadata": {},
   "outputs": [],
   "source": [
    "def get_rmse(y_true, y_pred):\n",
    "    mse = mean_squared_error(y_true, y_pred)\n",
    "    rmse = math.sqrt(mse)\n",
    "    return rmse"
   ]
  },
  {
   "cell_type": "code",
   "execution_count": 4,
   "metadata": {},
   "outputs": [
    {
     "data": {
      "text/plain": [
       "(956868, 239217)"
      ]
     },
     "execution_count": 4,
     "metadata": {},
     "output_type": "execute_result"
    }
   ],
   "source": [
    "train_path = './data/train.csv'\n",
    "test_path = './data/test.csv'\n",
    "\n",
    "X_train, X_test = read_from_csv(train_path, ), read_from_csv(test_path)\n",
    "len(X_train), len(X_test)"
   ]
  },
  {
   "cell_type": "code",
   "execution_count": 5,
   "metadata": {},
   "outputs": [],
   "source": [
    "y_train, y_test = pd.DataFrame(X_train['duration']), pd.DataFrame(X_test['duration'])\n",
    "\n",
    "X_train.drop(columns=['duration'], inplace=True)\n",
    "X_test.drop(columns=['duration'], inplace=True)\n",
    "\n",
    "# drop the datetime type columns\n",
    "X_train.drop(columns=['tpep_dropoff_datetime', 'tpep_pickup_datetime'], inplace=True)\n",
    "X_test.drop(columns=['tpep_dropoff_datetime', 'tpep_pickup_datetime'], inplace=True)"
   ]
  },
  {
   "cell_type": "markdown",
   "metadata": {},
   "source": [
    "## Linear Regression"
   ]
  },
  {
   "cell_type": "code",
   "execution_count": 6,
   "metadata": {},
   "outputs": [],
   "source": [
    "model_lr = LinearRegression().fit(X_train, y_train)\n",
    "model_ridge = Ridge().fit(X_train, y_train)\n",
    "model_lasso = Lasso().fit(X_train, y_train)\n",
    "model_elasticnet = ElasticNet().fit(X_train, y_train)"
   ]
  },
  {
   "cell_type": "code",
   "execution_count": 7,
   "metadata": {},
   "outputs": [
    {
     "name": "stdout",
     "output_type": "stream",
     "text": [
      "Train Loss for Linear Regression: 1.7834776609741771\n",
      "Train Loss for Ridge Regression: 1.783531230312074\n",
      "Train Loss for Lasso Regression: 2.5064942394275147\n",
      "Train Loss for Elastic_Net Regression: 2.898159245422226\n"
     ]
    }
   ],
   "source": [
    "# Train\n",
    "y_pred1 = model_lr.predict(X_train)\n",
    "y_pred2 = model_ridge.predict(X_train)\n",
    "y_pred3 = model_lasso.predict(X_train)\n",
    "y_pred4 = model_elasticnet.predict(X_train)\n",
    "\n",
    "train_loss1 = get_rmse(y_train, y_pred1)\n",
    "train_loss2 = get_rmse(y_train, y_pred2)\n",
    "train_loss3 = get_rmse(y_train, y_pred3)\n",
    "train_loss4 = get_rmse(y_train, y_pred4)\n",
    "\n",
    "print(\"Train Loss for Linear Regression: {}\".format(train_loss1))\n",
    "print(\"Train Loss for Ridge Regression: {}\".format(train_loss2))\n",
    "print(\"Train Loss for Lasso Regression: {}\".format(train_loss3))\n",
    "print(\"Train Loss for Elastic_Net Regression: {}\".format(train_loss4))"
   ]
  },
  {
   "cell_type": "code",
   "execution_count": 8,
   "metadata": {},
   "outputs": [
    {
     "name": "stdout",
     "output_type": "stream",
     "text": [
      "Test Loss for Linear Regression: 1.744762446460397\n",
      "Test Loss for Ridge Regression: 1.7447454967159297\n",
      "Test Loss for Lasso Regression: 2.4785914911596416\n",
      "Test Loss for Elastic_Net Regression: 2.872007197362613\n"
     ]
    }
   ],
   "source": [
    "# Test\n",
    "y_pred1 = model_lr.predict(X_test)\n",
    "y_pred2 = model_ridge.predict(X_test)\n",
    "y_pred3 = model_lasso.predict(X_test)\n",
    "y_pred4 = model_elasticnet.predict(X_test)\n",
    "\n",
    "\n",
    "test_loss1 = get_rmse(y_test, y_pred1)\n",
    "test_loss2 = get_rmse(y_test, y_pred2)\n",
    "test_loss3 = get_rmse(y_test, y_pred3)\n",
    "test_loss4 = get_rmse(y_test, y_pred4)\n",
    "\n",
    "print(\"Test Loss for Linear Regression: {}\".format(test_loss1))\n",
    "print(\"Test Loss for Ridge Regression: {}\".format(test_loss2))\n",
    "print(\"Test Loss for Lasso Regression: {}\".format(test_loss3))\n",
    "print(\"Test Loss for Elastic_Net Regression: {}\".format(test_loss4))"
   ]
  },
  {
   "cell_type": "markdown",
   "metadata": {},
   "source": [
    "## XGBoost"
   ]
  },
  {
   "cell_type": "code",
   "execution_count": 10,
   "metadata": {},
   "outputs": [],
   "source": [
    "params = { \n",
    "    'booster': 'gbtree',\n",
    "    'objective':'reg:linear',\n",
    "    'learning_rate': 0.2,\n",
    "    'n_estimators': 200,\n",
    "    'objective': 'reg:linear',  \n",
    "    'gamma': 0.3,                  # control pruning\n",
    "    'max_depth':5 ,               \n",
    "    'lambda': 2,                   # L2 parameter\n",
    "    'subsample': 0.8,              # random sample \n",
    "    'colsample_bytree': 0.7,       # col sample when generate tree\n",
    "    'min_child_weight': 1,\n",
    "    'silent': 0,\n",
    "    'reg_alpha': 0\n",
    "}"
   ]
  },
  {
   "cell_type": "code",
   "execution_count": 13,
   "metadata": {},
   "outputs": [
    {
     "name": "stdout",
     "output_type": "stream",
     "text": [
      "[01:19:05] WARNING: src/objective/regression_obj.cu:152: reg:linear is now deprecated in favor of reg:squarederror.\n"
     ]
    },
    {
     "data": {
      "text/plain": [
       "XGBRegressor(base_score=0.5, booster='gbtree', colsample_bylevel=1,\n",
       "             colsample_bynode=1, colsample_bytree=0.7, gamma=0.3,\n",
       "             importance_type='gain', learning_rate=0.2, max_delta_step=0,\n",
       "             max_depth=5, min_child_weight=1, missing=None, n_estimators=200,\n",
       "             n_jobs=-1, nthread=None, objective='reg:linear', random_state=0,\n",
       "             reg_alpha=0, reg_lambda=1, scale_pos_weight=1, seed=None, silent=0,\n",
       "             subsample=0.8, verbosity=1)"
      ]
     },
     "execution_count": 13,
     "metadata": {},
     "output_type": "execute_result"
    }
   ],
   "source": [
    "model_xgboost = xgb.XGBRegressor(\n",
    "        learning_rate=params['learning_rate'],\n",
    "        n_estimators=params['n_estimators'],\n",
    "        booster=params['booster'],\n",
    "        objective=params['objective'],\n",
    "        n_jobs=-1,\n",
    "        subsample=params['subsample'],\n",
    "        colsample_bytree=params['colsample_bytree'],\n",
    "        random_state=0,\n",
    "        silent=params['silent'],\n",
    "        max_depth=params['max_depth'],\n",
    "        gamma=params['gamma'],\n",
    "        min_child_weight=params['min_child_weight'],\n",
    "        reg_alpha=params['reg_alpha']\n",
    "    )\n",
    "\n",
    "model_xgboost.fit(X_train, y_train)"
   ]
  },
  {
   "cell_type": "code",
   "execution_count": 14,
   "metadata": {},
   "outputs": [
    {
     "name": "stdout",
     "output_type": "stream",
     "text": [
      "Train Loss: 1.4578622049332328\n"
     ]
    }
   ],
   "source": [
    "# Train\n",
    "y_pred = model_xgboost.predict(X_train)\n",
    "train_loss = get_rmse(y_train, y_pred)\n",
    "print(\"Train Loss: {}\".format(train_loss))"
   ]
  },
  {
   "cell_type": "code",
   "execution_count": 15,
   "metadata": {},
   "outputs": [
    {
     "name": "stdout",
     "output_type": "stream",
     "text": [
      "Test Loss: 1.4535733578299626\n"
     ]
    }
   ],
   "source": [
    "# Test\n",
    "y_pred = model_xgboost.predict(X_test)\n",
    "test_loss = get_rmse(y_test, y_pred)\n",
    "print(\"Test Loss: {}\".format(test_loss))"
   ]
  },
  {
   "cell_type": "markdown",
   "metadata": {},
   "source": [
    "### Grid Search Parameters for Xgboost"
   ]
  },
  {
   "cell_type": "code",
   "execution_count": 16,
   "metadata": {
    "scrolled": true
   },
   "outputs": [
    {
     "name": "stdout",
     "output_type": "stream",
     "text": [
      "Fitting 5 folds for each of 45 candidates, totalling 225 fits\n",
      "[CV] gamma=0.5, learning_rate=0.1, n_estimators=100 ..................\n"
     ]
    },
    {
     "name": "stderr",
     "output_type": "stream",
     "text": [
      "[Parallel(n_jobs=1)]: Using backend SequentialBackend with 1 concurrent workers.\n"
     ]
    },
    {
     "name": "stdout",
     "output_type": "stream",
     "text": [
      "[CV] ... gamma=0.5, learning_rate=0.1, n_estimators=100, total=  27.2s\n",
      "[CV] gamma=0.5, learning_rate=0.1, n_estimators=100 ..................\n"
     ]
    },
    {
     "name": "stderr",
     "output_type": "stream",
     "text": [
      "[Parallel(n_jobs=1)]: Done   1 out of   1 | elapsed:   27.2s remaining:    0.0s\n"
     ]
    },
    {
     "name": "stdout",
     "output_type": "stream",
     "text": [
      "[CV] ... gamma=0.5, learning_rate=0.1, n_estimators=100, total=  28.3s\n",
      "[CV] gamma=0.5, learning_rate=0.1, n_estimators=100 ..................\n",
      "[CV] ... gamma=0.5, learning_rate=0.1, n_estimators=100, total=  27.2s\n",
      "[CV] gamma=0.5, learning_rate=0.1, n_estimators=100 ..................\n",
      "[CV] ... gamma=0.5, learning_rate=0.1, n_estimators=100, total=  26.2s\n",
      "[CV] gamma=0.5, learning_rate=0.1, n_estimators=100 ..................\n",
      "[CV] ... gamma=0.5, learning_rate=0.1, n_estimators=100, total=  26.6s\n",
      "[CV] gamma=0.5, learning_rate=0.1, n_estimators=200 ..................\n",
      "[CV] ... gamma=0.5, learning_rate=0.1, n_estimators=200, total=  48.8s\n",
      "[CV] gamma=0.5, learning_rate=0.1, n_estimators=200 ..................\n",
      "[CV] ... gamma=0.5, learning_rate=0.1, n_estimators=200, total=  55.5s\n",
      "[CV] gamma=0.5, learning_rate=0.1, n_estimators=200 ..................\n",
      "[CV] ... gamma=0.5, learning_rate=0.1, n_estimators=200, total=  45.6s\n",
      "[CV] gamma=0.5, learning_rate=0.1, n_estimators=200 ..................\n",
      "[CV] ... gamma=0.5, learning_rate=0.1, n_estimators=200, total=  51.2s\n",
      "[CV] gamma=0.5, learning_rate=0.1, n_estimators=200 ..................\n",
      "[CV] ... gamma=0.5, learning_rate=0.1, n_estimators=200, total=  49.8s\n",
      "[CV] gamma=0.5, learning_rate=0.1, n_estimators=300 ..................\n",
      "[CV] ... gamma=0.5, learning_rate=0.1, n_estimators=300, total= 1.1min\n",
      "[CV] gamma=0.5, learning_rate=0.1, n_estimators=300 ..................\n",
      "[CV] ... gamma=0.5, learning_rate=0.1, n_estimators=300, total= 1.3min\n",
      "[CV] gamma=0.5, learning_rate=0.1, n_estimators=300 ..................\n",
      "[CV] ... gamma=0.5, learning_rate=0.1, n_estimators=300, total= 1.1min\n",
      "[CV] gamma=0.5, learning_rate=0.1, n_estimators=300 ..................\n",
      "[CV] ... gamma=0.5, learning_rate=0.1, n_estimators=300, total= 1.1min\n",
      "[CV] gamma=0.5, learning_rate=0.1, n_estimators=300 ..................\n",
      "[CV] ... gamma=0.5, learning_rate=0.1, n_estimators=300, total= 1.1min\n",
      "[CV] gamma=0.5, learning_rate=0.2, n_estimators=100 ..................\n",
      "[CV] ... gamma=0.5, learning_rate=0.2, n_estimators=100, total=  23.3s\n",
      "[CV] gamma=0.5, learning_rate=0.2, n_estimators=100 ..................\n",
      "[CV] ... gamma=0.5, learning_rate=0.2, n_estimators=100, total=  22.1s\n",
      "[CV] gamma=0.5, learning_rate=0.2, n_estimators=100 ..................\n",
      "[CV] ... gamma=0.5, learning_rate=0.2, n_estimators=100, total=  22.0s\n",
      "[CV] gamma=0.5, learning_rate=0.2, n_estimators=100 ..................\n",
      "[CV] ... gamma=0.5, learning_rate=0.2, n_estimators=100, total=  25.1s\n",
      "[CV] gamma=0.5, learning_rate=0.2, n_estimators=100 ..................\n",
      "[CV] ... gamma=0.5, learning_rate=0.2, n_estimators=100, total=  26.3s\n",
      "[CV] gamma=0.5, learning_rate=0.2, n_estimators=200 ..................\n",
      "[CV] ... gamma=0.5, learning_rate=0.2, n_estimators=200, total=  53.2s\n",
      "[CV] gamma=0.5, learning_rate=0.2, n_estimators=200 ..................\n",
      "[CV] ... gamma=0.5, learning_rate=0.2, n_estimators=200, total=  45.6s\n",
      "[CV] gamma=0.5, learning_rate=0.2, n_estimators=200 ..................\n",
      "[CV] ... gamma=0.5, learning_rate=0.2, n_estimators=200, total=  43.8s\n",
      "[CV] gamma=0.5, learning_rate=0.2, n_estimators=200 ..................\n",
      "[CV] ... gamma=0.5, learning_rate=0.2, n_estimators=200, total=  43.7s\n",
      "[CV] gamma=0.5, learning_rate=0.2, n_estimators=200 ..................\n",
      "[CV] ... gamma=0.5, learning_rate=0.2, n_estimators=200, total=  49.1s\n",
      "[CV] gamma=0.5, learning_rate=0.2, n_estimators=300 ..................\n",
      "[CV] ... gamma=0.5, learning_rate=0.2, n_estimators=300, total= 1.1min\n",
      "[CV] gamma=0.5, learning_rate=0.2, n_estimators=300 ..................\n",
      "[CV] ... gamma=0.5, learning_rate=0.2, n_estimators=300, total= 1.1min\n",
      "[CV] gamma=0.5, learning_rate=0.2, n_estimators=300 ..................\n",
      "[CV] ... gamma=0.5, learning_rate=0.2, n_estimators=300, total= 1.3min\n",
      "[CV] gamma=0.5, learning_rate=0.2, n_estimators=300 ..................\n",
      "[CV] ... gamma=0.5, learning_rate=0.2, n_estimators=300, total= 1.3min\n",
      "[CV] gamma=0.5, learning_rate=0.2, n_estimators=300 ..................\n",
      "[CV] ... gamma=0.5, learning_rate=0.2, n_estimators=300, total= 1.1min\n",
      "[CV] gamma=0.5, learning_rate=0.3, n_estimators=100 ..................\n",
      "[CV] ... gamma=0.5, learning_rate=0.3, n_estimators=100, total=  22.6s\n",
      "[CV] gamma=0.5, learning_rate=0.3, n_estimators=100 ..................\n",
      "[CV] ... gamma=0.5, learning_rate=0.3, n_estimators=100, total=  25.7s\n",
      "[CV] gamma=0.5, learning_rate=0.3, n_estimators=100 ..................\n",
      "[CV] ... gamma=0.5, learning_rate=0.3, n_estimators=100, total=  25.6s\n",
      "[CV] gamma=0.5, learning_rate=0.3, n_estimators=100 ..................\n",
      "[CV] ... gamma=0.5, learning_rate=0.3, n_estimators=100, total=  26.2s\n",
      "[CV] gamma=0.5, learning_rate=0.3, n_estimators=100 ..................\n",
      "[CV] ... gamma=0.5, learning_rate=0.3, n_estimators=100, total=  21.8s\n",
      "[CV] gamma=0.5, learning_rate=0.3, n_estimators=200 ..................\n",
      "[CV] ... gamma=0.5, learning_rate=0.3, n_estimators=200, total=  52.0s\n",
      "[CV] gamma=0.5, learning_rate=0.3, n_estimators=200 ..................\n",
      "[CV] ... gamma=0.5, learning_rate=0.3, n_estimators=200, total=  44.6s\n",
      "[CV] gamma=0.5, learning_rate=0.3, n_estimators=200 ..................\n",
      "[CV] ... gamma=0.5, learning_rate=0.3, n_estimators=200, total=  52.8s\n",
      "[CV] gamma=0.5, learning_rate=0.3, n_estimators=200 ..................\n",
      "[CV] ... gamma=0.5, learning_rate=0.3, n_estimators=200, total=  51.8s\n",
      "[CV] gamma=0.5, learning_rate=0.3, n_estimators=200 ..................\n",
      "[CV] ... gamma=0.5, learning_rate=0.3, n_estimators=200, total=  50.4s\n",
      "[CV] gamma=0.5, learning_rate=0.3, n_estimators=300 ..................\n",
      "[CV] ... gamma=0.5, learning_rate=0.3, n_estimators=300, total= 1.1min\n",
      "[CV] gamma=0.5, learning_rate=0.3, n_estimators=300 ..................\n",
      "[CV] ... gamma=0.5, learning_rate=0.3, n_estimators=300, total= 1.2min\n",
      "[CV] gamma=0.5, learning_rate=0.3, n_estimators=300 ..................\n",
      "[CV] ... gamma=0.5, learning_rate=0.3, n_estimators=300, total= 1.3min\n",
      "[CV] gamma=0.5, learning_rate=0.3, n_estimators=300 ..................\n",
      "[CV] ... gamma=0.5, learning_rate=0.3, n_estimators=300, total= 1.2min\n",
      "[CV] gamma=0.5, learning_rate=0.3, n_estimators=300 ..................\n",
      "[CV] ... gamma=0.5, learning_rate=0.3, n_estimators=300, total= 1.3min\n",
      "[CV] gamma=1, learning_rate=0.1, n_estimators=100 ....................\n",
      "[CV] ..... gamma=1, learning_rate=0.1, n_estimators=100, total=  22.0s\n",
      "[CV] gamma=1, learning_rate=0.1, n_estimators=100 ....................\n",
      "[CV] ..... gamma=1, learning_rate=0.1, n_estimators=100, total=  21.8s\n",
      "[CV] gamma=1, learning_rate=0.1, n_estimators=100 ....................\n",
      "[CV] ..... gamma=1, learning_rate=0.1, n_estimators=100, total=  21.9s\n",
      "[CV] gamma=1, learning_rate=0.1, n_estimators=100 ....................\n",
      "[CV] ..... gamma=1, learning_rate=0.1, n_estimators=100, total=  24.8s\n",
      "[CV] gamma=1, learning_rate=0.1, n_estimators=100 ....................\n",
      "[CV] ..... gamma=1, learning_rate=0.1, n_estimators=100, total=  21.8s\n",
      "[CV] gamma=1, learning_rate=0.1, n_estimators=200 ....................\n",
      "[CV] ..... gamma=1, learning_rate=0.1, n_estimators=200, total=  50.4s\n",
      "[CV] gamma=1, learning_rate=0.1, n_estimators=200 ....................\n",
      "[CV] ..... gamma=1, learning_rate=0.1, n_estimators=200, total=  46.4s\n",
      "[CV] gamma=1, learning_rate=0.1, n_estimators=200 ....................\n",
      "[CV] ..... gamma=1, learning_rate=0.1, n_estimators=200, total=  43.7s\n",
      "[CV] gamma=1, learning_rate=0.1, n_estimators=200 ....................\n",
      "[CV] ..... gamma=1, learning_rate=0.1, n_estimators=200, total=  44.4s\n",
      "[CV] gamma=1, learning_rate=0.1, n_estimators=200 ....................\n",
      "[CV] ..... gamma=1, learning_rate=0.1, n_estimators=200, total=  42.5s\n",
      "[CV] gamma=1, learning_rate=0.1, n_estimators=300 ....................\n",
      "[CV] ..... gamma=1, learning_rate=0.1, n_estimators=300, total= 1.3min\n",
      "[CV] gamma=1, learning_rate=0.1, n_estimators=300 ....................\n",
      "[CV] ..... gamma=1, learning_rate=0.1, n_estimators=300, total= 1.1min\n",
      "[CV] gamma=1, learning_rate=0.1, n_estimators=300 ....................\n",
      "[CV] ..... gamma=1, learning_rate=0.1, n_estimators=300, total= 1.3min\n",
      "[CV] gamma=1, learning_rate=0.1, n_estimators=300 ....................\n",
      "[CV] ..... gamma=1, learning_rate=0.1, n_estimators=300, total= 1.1min\n",
      "[CV] gamma=1, learning_rate=0.1, n_estimators=300 ....................\n"
     ]
    },
    {
     "name": "stdout",
     "output_type": "stream",
     "text": [
      "[CV] ..... gamma=1, learning_rate=0.1, n_estimators=300, total= 1.1min\n",
      "[CV] gamma=1, learning_rate=0.2, n_estimators=100 ....................\n",
      "[CV] ..... gamma=1, learning_rate=0.2, n_estimators=100, total=  25.6s\n",
      "[CV] gamma=1, learning_rate=0.2, n_estimators=100 ....................\n",
      "[CV] ..... gamma=1, learning_rate=0.2, n_estimators=100, total=  22.1s\n",
      "[CV] gamma=1, learning_rate=0.2, n_estimators=100 ....................\n",
      "[CV] ..... gamma=1, learning_rate=0.2, n_estimators=100, total=  26.1s\n",
      "[CV] gamma=1, learning_rate=0.2, n_estimators=100 ....................\n",
      "[CV] ..... gamma=1, learning_rate=0.2, n_estimators=100, total=  22.8s\n",
      "[CV] gamma=1, learning_rate=0.2, n_estimators=100 ....................\n",
      "[CV] ..... gamma=1, learning_rate=0.2, n_estimators=100, total=  23.7s\n",
      "[CV] gamma=1, learning_rate=0.2, n_estimators=200 ....................\n",
      "[CV] ..... gamma=1, learning_rate=0.2, n_estimators=200, total=  44.5s\n",
      "[CV] gamma=1, learning_rate=0.2, n_estimators=200 ....................\n",
      "[CV] ..... gamma=1, learning_rate=0.2, n_estimators=200, total=  43.7s\n",
      "[CV] gamma=1, learning_rate=0.2, n_estimators=200 ....................\n",
      "[CV] ..... gamma=1, learning_rate=0.2, n_estimators=200, total=  50.5s\n",
      "[CV] gamma=1, learning_rate=0.2, n_estimators=200 ....................\n",
      "[CV] ..... gamma=1, learning_rate=0.2, n_estimators=200, total=  45.6s\n",
      "[CV] gamma=1, learning_rate=0.2, n_estimators=200 ....................\n",
      "[CV] ..... gamma=1, learning_rate=0.2, n_estimators=200, total=  43.4s\n",
      "[CV] gamma=1, learning_rate=0.2, n_estimators=300 ....................\n",
      "[CV] ..... gamma=1, learning_rate=0.2, n_estimators=300, total= 1.1min\n",
      "[CV] gamma=1, learning_rate=0.2, n_estimators=300 ....................\n",
      "[CV] ..... gamma=1, learning_rate=0.2, n_estimators=300, total= 1.1min\n",
      "[CV] gamma=1, learning_rate=0.2, n_estimators=300 ....................\n",
      "[CV] ..... gamma=1, learning_rate=0.2, n_estimators=300, total= 1.2min\n",
      "[CV] gamma=1, learning_rate=0.2, n_estimators=300 ....................\n",
      "[CV] ..... gamma=1, learning_rate=0.2, n_estimators=300, total= 1.1min\n",
      "[CV] gamma=1, learning_rate=0.2, n_estimators=300 ....................\n",
      "[CV] ..... gamma=1, learning_rate=0.2, n_estimators=300, total= 1.3min\n",
      "[CV] gamma=1, learning_rate=0.3, n_estimators=100 ....................\n",
      "[CV] ..... gamma=1, learning_rate=0.3, n_estimators=100, total=  22.3s\n",
      "[CV] gamma=1, learning_rate=0.3, n_estimators=100 ....................\n",
      "[CV] ..... gamma=1, learning_rate=0.3, n_estimators=100, total=  22.3s\n",
      "[CV] gamma=1, learning_rate=0.3, n_estimators=100 ....................\n",
      "[CV] ..... gamma=1, learning_rate=0.3, n_estimators=100, total=  22.2s\n",
      "[CV] gamma=1, learning_rate=0.3, n_estimators=100 ....................\n",
      "[CV] ..... gamma=1, learning_rate=0.3, n_estimators=100, total=  24.8s\n",
      "[CV] gamma=1, learning_rate=0.3, n_estimators=100 ....................\n",
      "[CV] ..... gamma=1, learning_rate=0.3, n_estimators=100, total=  25.2s\n",
      "[CV] gamma=1, learning_rate=0.3, n_estimators=200 ....................\n",
      "[CV] ..... gamma=1, learning_rate=0.3, n_estimators=200, total=  43.8s\n",
      "[CV] gamma=1, learning_rate=0.3, n_estimators=200 ....................\n",
      "[CV] ..... gamma=1, learning_rate=0.3, n_estimators=200, total=  49.5s\n",
      "[CV] gamma=1, learning_rate=0.3, n_estimators=200 ....................\n",
      "[CV] ..... gamma=1, learning_rate=0.3, n_estimators=200, total=  46.2s\n",
      "[CV] gamma=1, learning_rate=0.3, n_estimators=200 ....................\n",
      "[CV] ..... gamma=1, learning_rate=0.3, n_estimators=200, total=  49.1s\n",
      "[CV] gamma=1, learning_rate=0.3, n_estimators=200 ....................\n",
      "[CV] ..... gamma=1, learning_rate=0.3, n_estimators=200, total=  51.3s\n",
      "[CV] gamma=1, learning_rate=0.3, n_estimators=300 ....................\n",
      "[CV] ..... gamma=1, learning_rate=0.3, n_estimators=300, total= 1.1min\n",
      "[CV] gamma=1, learning_rate=0.3, n_estimators=300 ....................\n",
      "[CV] ..... gamma=1, learning_rate=0.3, n_estimators=300, total= 1.1min\n",
      "[CV] gamma=1, learning_rate=0.3, n_estimators=300 ....................\n",
      "[CV] ..... gamma=1, learning_rate=0.3, n_estimators=300, total= 1.1min\n",
      "[CV] gamma=1, learning_rate=0.3, n_estimators=300 ....................\n",
      "[CV] ..... gamma=1, learning_rate=0.3, n_estimators=300, total= 1.1min\n",
      "[CV] gamma=1, learning_rate=0.3, n_estimators=300 ....................\n",
      "[CV] ..... gamma=1, learning_rate=0.3, n_estimators=300, total= 1.3min\n",
      "[CV] gamma=1.5, learning_rate=0.1, n_estimators=100 ..................\n",
      "[CV] ... gamma=1.5, learning_rate=0.1, n_estimators=100, total=  21.8s\n",
      "[CV] gamma=1.5, learning_rate=0.1, n_estimators=100 ..................\n",
      "[CV] ... gamma=1.5, learning_rate=0.1, n_estimators=100, total=  22.5s\n",
      "[CV] gamma=1.5, learning_rate=0.1, n_estimators=100 ..................\n",
      "[CV] ... gamma=1.5, learning_rate=0.1, n_estimators=100, total=  26.5s\n",
      "[CV] gamma=1.5, learning_rate=0.1, n_estimators=100 ..................\n",
      "[CV] ... gamma=1.5, learning_rate=0.1, n_estimators=100, total=  21.4s\n",
      "[CV] gamma=1.5, learning_rate=0.1, n_estimators=100 ..................\n",
      "[CV] ... gamma=1.5, learning_rate=0.1, n_estimators=100, total=  21.7s\n",
      "[CV] gamma=1.5, learning_rate=0.1, n_estimators=200 ..................\n",
      "[CV] ... gamma=1.5, learning_rate=0.1, n_estimators=200, total=  43.4s\n",
      "[CV] gamma=1.5, learning_rate=0.1, n_estimators=200 ..................\n",
      "[CV] ... gamma=1.5, learning_rate=0.1, n_estimators=200, total=  44.7s\n",
      "[CV] gamma=1.5, learning_rate=0.1, n_estimators=200 ..................\n",
      "[CV] ... gamma=1.5, learning_rate=0.1, n_estimators=200, total=  51.7s\n",
      "[CV] gamma=1.5, learning_rate=0.1, n_estimators=200 ..................\n",
      "[CV] ... gamma=1.5, learning_rate=0.1, n_estimators=200, total=  43.6s\n",
      "[CV] gamma=1.5, learning_rate=0.1, n_estimators=200 ..................\n",
      "[CV] ... gamma=1.5, learning_rate=0.1, n_estimators=200, total=  42.5s\n",
      "[CV] gamma=1.5, learning_rate=0.1, n_estimators=300 ..................\n",
      "[CV] ... gamma=1.5, learning_rate=0.1, n_estimators=300, total= 1.1min\n",
      "[CV] gamma=1.5, learning_rate=0.1, n_estimators=300 ..................\n",
      "[CV] ... gamma=1.5, learning_rate=0.1, n_estimators=300, total= 1.2min\n",
      "[CV] gamma=1.5, learning_rate=0.1, n_estimators=300 ..................\n",
      "[CV] ... gamma=1.5, learning_rate=0.1, n_estimators=300, total= 1.3min\n",
      "[CV] gamma=1.5, learning_rate=0.1, n_estimators=300 ..................\n",
      "[CV] ... gamma=1.5, learning_rate=0.1, n_estimators=300, total= 1.1min\n",
      "[CV] gamma=1.5, learning_rate=0.1, n_estimators=300 ..................\n",
      "[CV] ... gamma=1.5, learning_rate=0.1, n_estimators=300, total= 1.3min\n",
      "[CV] gamma=1.5, learning_rate=0.2, n_estimators=100 ..................\n",
      "[CV] ... gamma=1.5, learning_rate=0.2, n_estimators=100, total=  26.3s\n",
      "[CV] gamma=1.5, learning_rate=0.2, n_estimators=100 ..................\n",
      "[CV] ... gamma=1.5, learning_rate=0.2, n_estimators=100, total=  26.3s\n",
      "[CV] gamma=1.5, learning_rate=0.2, n_estimators=100 ..................\n",
      "[CV] ... gamma=1.5, learning_rate=0.2, n_estimators=100, total=  25.7s\n",
      "[CV] gamma=1.5, learning_rate=0.2, n_estimators=100 ..................\n",
      "[CV] ... gamma=1.5, learning_rate=0.2, n_estimators=100, total=  21.5s\n",
      "[CV] gamma=1.5, learning_rate=0.2, n_estimators=100 ..................\n",
      "[CV] ... gamma=1.5, learning_rate=0.2, n_estimators=100, total=  21.6s\n",
      "[CV] gamma=1.5, learning_rate=0.2, n_estimators=200 ..................\n",
      "[CV] ... gamma=1.5, learning_rate=0.2, n_estimators=200, total=  51.9s\n",
      "[CV] gamma=1.5, learning_rate=0.2, n_estimators=200 ..................\n",
      "[CV] ... gamma=1.5, learning_rate=0.2, n_estimators=200, total=  43.8s\n",
      "[CV] gamma=1.5, learning_rate=0.2, n_estimators=200 ..................\n",
      "[CV] ... gamma=1.5, learning_rate=0.2, n_estimators=200, total=  51.4s\n",
      "[CV] gamma=1.5, learning_rate=0.2, n_estimators=200 ..................\n",
      "[CV] ... gamma=1.5, learning_rate=0.2, n_estimators=200, total=  44.5s\n",
      "[CV] gamma=1.5, learning_rate=0.2, n_estimators=200 ..................\n",
      "[CV] ... gamma=1.5, learning_rate=0.2, n_estimators=200, total=  42.6s\n",
      "[CV] gamma=1.5, learning_rate=0.2, n_estimators=300 ..................\n",
      "[CV] ... gamma=1.5, learning_rate=0.2, n_estimators=300, total= 1.2min\n",
      "[CV] gamma=1.5, learning_rate=0.2, n_estimators=300 ..................\n",
      "[CV] ... gamma=1.5, learning_rate=0.2, n_estimators=300, total= 1.1min\n",
      "[CV] gamma=1.5, learning_rate=0.2, n_estimators=300 ..................\n"
     ]
    },
    {
     "name": "stdout",
     "output_type": "stream",
     "text": [
      "[CV] ... gamma=1.5, learning_rate=0.2, n_estimators=300, total= 1.3min\n",
      "[CV] gamma=1.5, learning_rate=0.2, n_estimators=300 ..................\n",
      "[CV] ... gamma=1.5, learning_rate=0.2, n_estimators=300, total= 1.3min\n",
      "[CV] gamma=1.5, learning_rate=0.2, n_estimators=300 ..................\n",
      "[CV] ... gamma=1.5, learning_rate=0.2, n_estimators=300, total= 1.1min\n",
      "[CV] gamma=1.5, learning_rate=0.3, n_estimators=100 ..................\n",
      "[CV] ... gamma=1.5, learning_rate=0.3, n_estimators=100, total=  22.4s\n",
      "[CV] gamma=1.5, learning_rate=0.3, n_estimators=100 ..................\n",
      "[CV] ... gamma=1.5, learning_rate=0.3, n_estimators=100, total=  22.1s\n",
      "[CV] gamma=1.5, learning_rate=0.3, n_estimators=100 ..................\n",
      "[CV] ... gamma=1.5, learning_rate=0.3, n_estimators=100, total=  22.0s\n",
      "[CV] gamma=1.5, learning_rate=0.3, n_estimators=100 ..................\n",
      "[CV] ... gamma=1.5, learning_rate=0.3, n_estimators=100, total=  25.9s\n",
      "[CV] gamma=1.5, learning_rate=0.3, n_estimators=100 ..................\n",
      "[CV] ... gamma=1.5, learning_rate=0.3, n_estimators=100, total=  21.6s\n",
      "[CV] gamma=1.5, learning_rate=0.3, n_estimators=200 ..................\n",
      "[CV] ... gamma=1.5, learning_rate=0.3, n_estimators=200, total=  43.7s\n",
      "[CV] gamma=1.5, learning_rate=0.3, n_estimators=200 ..................\n",
      "[CV] ... gamma=1.5, learning_rate=0.3, n_estimators=200, total=  51.1s\n",
      "[CV] gamma=1.5, learning_rate=0.3, n_estimators=200 ..................\n",
      "[CV] ... gamma=1.5, learning_rate=0.3, n_estimators=200, total=  52.6s\n",
      "[CV] gamma=1.5, learning_rate=0.3, n_estimators=200 ..................\n",
      "[CV] ... gamma=1.5, learning_rate=0.3, n_estimators=200, total=  50.5s\n",
      "[CV] gamma=1.5, learning_rate=0.3, n_estimators=200 ..................\n",
      "[CV] ... gamma=1.5, learning_rate=0.3, n_estimators=200, total=  43.0s\n",
      "[CV] gamma=1.5, learning_rate=0.3, n_estimators=300 ..................\n",
      "[CV] ... gamma=1.5, learning_rate=0.3, n_estimators=300, total= 1.3min\n",
      "[CV] gamma=1.5, learning_rate=0.3, n_estimators=300 ..................\n",
      "[CV] ... gamma=1.5, learning_rate=0.3, n_estimators=300, total= 1.3min\n",
      "[CV] gamma=1.5, learning_rate=0.3, n_estimators=300 ..................\n",
      "[CV] ... gamma=1.5, learning_rate=0.3, n_estimators=300, total= 1.1min\n",
      "[CV] gamma=1.5, learning_rate=0.3, n_estimators=300 ..................\n",
      "[CV] ... gamma=1.5, learning_rate=0.3, n_estimators=300, total= 1.1min\n",
      "[CV] gamma=1.5, learning_rate=0.3, n_estimators=300 ..................\n",
      "[CV] ... gamma=1.5, learning_rate=0.3, n_estimators=300, total= 1.1min\n",
      "[CV] gamma=2, learning_rate=0.1, n_estimators=100 ....................\n",
      "[CV] ..... gamma=2, learning_rate=0.1, n_estimators=100, total=  21.9s\n",
      "[CV] gamma=2, learning_rate=0.1, n_estimators=100 ....................\n",
      "[CV] ..... gamma=2, learning_rate=0.1, n_estimators=100, total=  22.2s\n",
      "[CV] gamma=2, learning_rate=0.1, n_estimators=100 ....................\n",
      "[CV] ..... gamma=2, learning_rate=0.1, n_estimators=100, total=  21.8s\n",
      "[CV] gamma=2, learning_rate=0.1, n_estimators=100 ....................\n",
      "[CV] ..... gamma=2, learning_rate=0.1, n_estimators=100, total=  25.6s\n",
      "[CV] gamma=2, learning_rate=0.1, n_estimators=100 ....................\n",
      "[CV] ..... gamma=2, learning_rate=0.1, n_estimators=100, total=  25.2s\n",
      "[CV] gamma=2, learning_rate=0.1, n_estimators=200 ....................\n",
      "[CV] ..... gamma=2, learning_rate=0.1, n_estimators=200, total=  43.3s\n",
      "[CV] gamma=2, learning_rate=0.1, n_estimators=200 ....................\n",
      "[CV] ..... gamma=2, learning_rate=0.1, n_estimators=200, total=  43.3s\n",
      "[CV] gamma=2, learning_rate=0.1, n_estimators=200 ....................\n",
      "[CV] ..... gamma=2, learning_rate=0.1, n_estimators=200, total=  51.5s\n",
      "[CV] gamma=2, learning_rate=0.1, n_estimators=200 ....................\n",
      "[CV] ..... gamma=2, learning_rate=0.1, n_estimators=200, total=  43.5s\n",
      "[CV] gamma=2, learning_rate=0.1, n_estimators=200 ....................\n",
      "[CV] ..... gamma=2, learning_rate=0.1, n_estimators=200, total=  43.2s\n",
      "[CV] gamma=2, learning_rate=0.1, n_estimators=300 ....................\n",
      "[CV] ..... gamma=2, learning_rate=0.1, n_estimators=300, total= 1.1min\n",
      "[CV] gamma=2, learning_rate=0.1, n_estimators=300 ....................\n",
      "[CV] ..... gamma=2, learning_rate=0.1, n_estimators=300, total= 1.2min\n",
      "[CV] gamma=2, learning_rate=0.1, n_estimators=300 ....................\n",
      "[CV] ..... gamma=2, learning_rate=0.1, n_estimators=300, total= 1.3min\n",
      "[CV] gamma=2, learning_rate=0.1, n_estimators=300 ....................\n",
      "[CV] ..... gamma=2, learning_rate=0.1, n_estimators=300, total= 1.2min\n",
      "[CV] gamma=2, learning_rate=0.1, n_estimators=300 ....................\n",
      "[CV] ..... gamma=2, learning_rate=0.1, n_estimators=300, total= 1.3min\n",
      "[CV] gamma=2, learning_rate=0.2, n_estimators=100 ....................\n",
      "[CV] ..... gamma=2, learning_rate=0.2, n_estimators=100, total=  22.6s\n",
      "[CV] gamma=2, learning_rate=0.2, n_estimators=100 ....................\n",
      "[CV] ..... gamma=2, learning_rate=0.2, n_estimators=100, total=  26.3s\n",
      "[CV] gamma=2, learning_rate=0.2, n_estimators=100 ....................\n",
      "[CV] ..... gamma=2, learning_rate=0.2, n_estimators=100, total=  22.2s\n",
      "[CV] gamma=2, learning_rate=0.2, n_estimators=100 ....................\n",
      "[CV] ..... gamma=2, learning_rate=0.2, n_estimators=100, total=  22.3s\n",
      "[CV] gamma=2, learning_rate=0.2, n_estimators=100 ....................\n",
      "[CV] ..... gamma=2, learning_rate=0.2, n_estimators=100, total=  26.0s\n",
      "[CV] gamma=2, learning_rate=0.2, n_estimators=200 ....................\n",
      "[CV] ..... gamma=2, learning_rate=0.2, n_estimators=200, total=  43.7s\n",
      "[CV] gamma=2, learning_rate=0.2, n_estimators=200 ....................\n",
      "[CV] ..... gamma=2, learning_rate=0.2, n_estimators=200, total=  43.8s\n",
      "[CV] gamma=2, learning_rate=0.2, n_estimators=200 ....................\n",
      "[CV] ..... gamma=2, learning_rate=0.2, n_estimators=200, total=  43.9s\n",
      "[CV] gamma=2, learning_rate=0.2, n_estimators=200 ....................\n",
      "[CV] ..... gamma=2, learning_rate=0.2, n_estimators=200, total=  49.5s\n",
      "[CV] gamma=2, learning_rate=0.2, n_estimators=200 ....................\n",
      "[CV] ..... gamma=2, learning_rate=0.2, n_estimators=200, total=  51.4s\n",
      "[CV] gamma=2, learning_rate=0.2, n_estimators=300 ....................\n",
      "[CV] ..... gamma=2, learning_rate=0.2, n_estimators=300, total= 1.2min\n",
      "[CV] gamma=2, learning_rate=0.2, n_estimators=300 ....................\n",
      "[CV] ..... gamma=2, learning_rate=0.2, n_estimators=300, total= 1.3min\n",
      "[CV] gamma=2, learning_rate=0.2, n_estimators=300 ....................\n",
      "[CV] ..... gamma=2, learning_rate=0.2, n_estimators=300, total= 1.1min\n",
      "[CV] gamma=2, learning_rate=0.2, n_estimators=300 ....................\n",
      "[CV] ..... gamma=2, learning_rate=0.2, n_estimators=300, total= 1.3min\n",
      "[CV] gamma=2, learning_rate=0.2, n_estimators=300 ....................\n",
      "[CV] ..... gamma=2, learning_rate=0.2, n_estimators=300, total= 1.1min\n",
      "[CV] gamma=2, learning_rate=0.3, n_estimators=100 ....................\n",
      "[CV] ..... gamma=2, learning_rate=0.3, n_estimators=100, total=  25.8s\n",
      "[CV] gamma=2, learning_rate=0.3, n_estimators=100 ....................\n",
      "[CV] ..... gamma=2, learning_rate=0.3, n_estimators=100, total=  24.6s\n",
      "[CV] gamma=2, learning_rate=0.3, n_estimators=100 ....................\n",
      "[CV] ..... gamma=2, learning_rate=0.3, n_estimators=100, total=  22.0s\n",
      "[CV] gamma=2, learning_rate=0.3, n_estimators=100 ....................\n",
      "[CV] ..... gamma=2, learning_rate=0.3, n_estimators=100, total=  25.6s\n",
      "[CV] gamma=2, learning_rate=0.3, n_estimators=100 ....................\n",
      "[CV] ..... gamma=2, learning_rate=0.3, n_estimators=100, total=  21.6s\n",
      "[CV] gamma=2, learning_rate=0.3, n_estimators=200 ....................\n",
      "[CV] ..... gamma=2, learning_rate=0.3, n_estimators=200, total=  43.8s\n",
      "[CV] gamma=2, learning_rate=0.3, n_estimators=200 ....................\n",
      "[CV] ..... gamma=2, learning_rate=0.3, n_estimators=200, total=  43.7s\n",
      "[CV] gamma=2, learning_rate=0.3, n_estimators=200 ....................\n",
      "[CV] ..... gamma=2, learning_rate=0.3, n_estimators=200, total=  50.6s\n",
      "[CV] gamma=2, learning_rate=0.3, n_estimators=200 ....................\n",
      "[CV] ..... gamma=2, learning_rate=0.3, n_estimators=200, total=  43.1s\n",
      "[CV] gamma=2, learning_rate=0.3, n_estimators=200 ....................\n",
      "[CV] ..... gamma=2, learning_rate=0.3, n_estimators=200, total=  42.9s\n",
      "[CV] gamma=2, learning_rate=0.3, n_estimators=300 ....................\n"
     ]
    },
    {
     "name": "stdout",
     "output_type": "stream",
     "text": [
      "[CV] ..... gamma=2, learning_rate=0.3, n_estimators=300, total= 1.3min\n",
      "[CV] gamma=2, learning_rate=0.3, n_estimators=300 ....................\n",
      "[CV] ..... gamma=2, learning_rate=0.3, n_estimators=300, total= 1.1min\n",
      "[CV] gamma=2, learning_rate=0.3, n_estimators=300 ....................\n",
      "[CV] ..... gamma=2, learning_rate=0.3, n_estimators=300, total= 1.3min\n",
      "[CV] gamma=2, learning_rate=0.3, n_estimators=300 ....................\n",
      "[CV] ..... gamma=2, learning_rate=0.3, n_estimators=300, total= 1.1min\n",
      "[CV] gamma=2, learning_rate=0.3, n_estimators=300 ....................\n",
      "[CV] ..... gamma=2, learning_rate=0.3, n_estimators=300, total= 1.1min\n",
      "[CV] gamma=5, learning_rate=0.1, n_estimators=100 ....................\n",
      "[CV] ..... gamma=5, learning_rate=0.1, n_estimators=100, total=  23.2s\n",
      "[CV] gamma=5, learning_rate=0.1, n_estimators=100 ....................\n",
      "[CV] ..... gamma=5, learning_rate=0.1, n_estimators=100, total=  25.8s\n",
      "[CV] gamma=5, learning_rate=0.1, n_estimators=100 ....................\n",
      "[CV] ..... gamma=5, learning_rate=0.1, n_estimators=100, total=  26.1s\n",
      "[CV] gamma=5, learning_rate=0.1, n_estimators=100 ....................\n",
      "[CV] ..... gamma=5, learning_rate=0.1, n_estimators=100, total=  21.4s\n",
      "[CV] gamma=5, learning_rate=0.1, n_estimators=100 ....................\n",
      "[CV] ..... gamma=5, learning_rate=0.1, n_estimators=100, total=  21.8s\n",
      "[CV] gamma=5, learning_rate=0.1, n_estimators=200 ....................\n",
      "[CV] ..... gamma=5, learning_rate=0.1, n_estimators=200, total=  48.3s\n",
      "[CV] gamma=5, learning_rate=0.1, n_estimators=200 ....................\n",
      "[CV] ..... gamma=5, learning_rate=0.1, n_estimators=200, total=  44.9s\n",
      "[CV] gamma=5, learning_rate=0.1, n_estimators=200 ....................\n",
      "[CV] ..... gamma=5, learning_rate=0.1, n_estimators=200, total=  49.5s\n",
      "[CV] gamma=5, learning_rate=0.1, n_estimators=200 ....................\n",
      "[CV] ..... gamma=5, learning_rate=0.1, n_estimators=200, total=  52.7s\n",
      "[CV] gamma=5, learning_rate=0.1, n_estimators=200 ....................\n",
      "[CV] ..... gamma=5, learning_rate=0.1, n_estimators=200, total=  42.6s\n",
      "[CV] gamma=5, learning_rate=0.1, n_estimators=300 ....................\n",
      "[CV] ..... gamma=5, learning_rate=0.1, n_estimators=300, total= 1.1min\n",
      "[CV] gamma=5, learning_rate=0.1, n_estimators=300 ....................\n",
      "[CV] ..... gamma=5, learning_rate=0.1, n_estimators=300, total= 1.2min\n",
      "[CV] gamma=5, learning_rate=0.1, n_estimators=300 ....................\n",
      "[CV] ..... gamma=5, learning_rate=0.1, n_estimators=300, total= 1.1min\n",
      "[CV] gamma=5, learning_rate=0.1, n_estimators=300 ....................\n",
      "[CV] ..... gamma=5, learning_rate=0.1, n_estimators=300, total= 1.3min\n",
      "[CV] gamma=5, learning_rate=0.1, n_estimators=300 ....................\n",
      "[CV] ..... gamma=5, learning_rate=0.1, n_estimators=300, total= 1.2min\n",
      "[CV] gamma=5, learning_rate=0.2, n_estimators=100 ....................\n",
      "[CV] ..... gamma=5, learning_rate=0.2, n_estimators=100, total=  26.3s\n",
      "[CV] gamma=5, learning_rate=0.2, n_estimators=100 ....................\n",
      "[CV] ..... gamma=5, learning_rate=0.2, n_estimators=100, total=  21.9s\n",
      "[CV] gamma=5, learning_rate=0.2, n_estimators=100 ....................\n",
      "[CV] ..... gamma=5, learning_rate=0.2, n_estimators=100, total=  22.0s\n",
      "[CV] gamma=5, learning_rate=0.2, n_estimators=100 ....................\n",
      "[CV] ..... gamma=5, learning_rate=0.2, n_estimators=100, total=  21.7s\n",
      "[CV] gamma=5, learning_rate=0.2, n_estimators=100 ....................\n",
      "[CV] ..... gamma=5, learning_rate=0.2, n_estimators=100, total=  22.9s\n",
      "[CV] gamma=5, learning_rate=0.2, n_estimators=200 ....................\n",
      "[CV] ..... gamma=5, learning_rate=0.2, n_estimators=200, total=  43.8s\n",
      "[CV] gamma=5, learning_rate=0.2, n_estimators=200 ....................\n",
      "[CV] ..... gamma=5, learning_rate=0.2, n_estimators=200, total=  46.5s\n",
      "[CV] gamma=5, learning_rate=0.2, n_estimators=200 ....................\n",
      "[CV] ..... gamma=5, learning_rate=0.2, n_estimators=200, total=  43.7s\n",
      "[CV] gamma=5, learning_rate=0.2, n_estimators=200 ....................\n",
      "[CV] ..... gamma=5, learning_rate=0.2, n_estimators=200, total=  50.2s\n",
      "[CV] gamma=5, learning_rate=0.2, n_estimators=200 ....................\n",
      "[CV] ..... gamma=5, learning_rate=0.2, n_estimators=200, total=  42.8s\n",
      "[CV] gamma=5, learning_rate=0.2, n_estimators=300 ....................\n",
      "[CV] ..... gamma=5, learning_rate=0.2, n_estimators=300, total= 1.1min\n",
      "[CV] gamma=5, learning_rate=0.2, n_estimators=300 ....................\n",
      "[CV] ..... gamma=5, learning_rate=0.2, n_estimators=300, total= 1.1min\n",
      "[CV] gamma=5, learning_rate=0.2, n_estimators=300 ....................\n",
      "[CV] ..... gamma=5, learning_rate=0.2, n_estimators=300, total= 1.3min\n",
      "[CV] gamma=5, learning_rate=0.2, n_estimators=300 ....................\n",
      "[CV] ..... gamma=5, learning_rate=0.2, n_estimators=300, total= 1.3min\n",
      "[CV] gamma=5, learning_rate=0.2, n_estimators=300 ....................\n",
      "[CV] ..... gamma=5, learning_rate=0.2, n_estimators=300, total= 1.1min\n",
      "[CV] gamma=5, learning_rate=0.3, n_estimators=100 ....................\n",
      "[CV] ..... gamma=5, learning_rate=0.3, n_estimators=100, total=  24.5s\n",
      "[CV] gamma=5, learning_rate=0.3, n_estimators=100 ....................\n",
      "[CV] ..... gamma=5, learning_rate=0.3, n_estimators=100, total=  22.6s\n",
      "[CV] gamma=5, learning_rate=0.3, n_estimators=100 ....................\n",
      "[CV] ..... gamma=5, learning_rate=0.3, n_estimators=100, total=  26.5s\n",
      "[CV] gamma=5, learning_rate=0.3, n_estimators=100 ....................\n",
      "[CV] ..... gamma=5, learning_rate=0.3, n_estimators=100, total=  21.8s\n",
      "[CV] gamma=5, learning_rate=0.3, n_estimators=100 ....................\n",
      "[CV] ..... gamma=5, learning_rate=0.3, n_estimators=100, total=  26.4s\n",
      "[CV] gamma=5, learning_rate=0.3, n_estimators=200 ....................\n",
      "[CV] ..... gamma=5, learning_rate=0.3, n_estimators=200, total=  43.7s\n",
      "[CV] gamma=5, learning_rate=0.3, n_estimators=200 ....................\n",
      "[CV] ..... gamma=5, learning_rate=0.3, n_estimators=200, total=  49.5s\n",
      "[CV] gamma=5, learning_rate=0.3, n_estimators=200 ....................\n",
      "[CV] ..... gamma=5, learning_rate=0.3, n_estimators=200, total=  44.1s\n",
      "[CV] gamma=5, learning_rate=0.3, n_estimators=200 ....................\n",
      "[CV] ..... gamma=5, learning_rate=0.3, n_estimators=200, total=  45.2s\n",
      "[CV] gamma=5, learning_rate=0.3, n_estimators=200 ....................\n",
      "[CV] ..... gamma=5, learning_rate=0.3, n_estimators=200, total=  49.4s\n",
      "[CV] gamma=5, learning_rate=0.3, n_estimators=300 ....................\n",
      "[CV] ..... gamma=5, learning_rate=0.3, n_estimators=300, total= 1.1min\n",
      "[CV] gamma=5, learning_rate=0.3, n_estimators=300 ....................\n",
      "[CV] ..... gamma=5, learning_rate=0.3, n_estimators=300, total= 1.1min\n",
      "[CV] gamma=5, learning_rate=0.3, n_estimators=300 ....................\n",
      "[CV] ..... gamma=5, learning_rate=0.3, n_estimators=300, total= 1.3min\n",
      "[CV] gamma=5, learning_rate=0.3, n_estimators=300 ....................\n",
      "[CV] ..... gamma=5, learning_rate=0.3, n_estimators=300, total= 1.1min\n",
      "[CV] gamma=5, learning_rate=0.3, n_estimators=300 ....................\n",
      "[CV] ..... gamma=5, learning_rate=0.3, n_estimators=300, total= 1.3min\n"
     ]
    },
    {
     "name": "stderr",
     "output_type": "stream",
     "text": [
      "[Parallel(n_jobs=1)]: Done 225 out of 225 | elapsed: 176.6min finished\n"
     ]
    },
    {
     "ename": "AttributeError",
     "evalue": "'GridSearchCV' object has no attribute 'grid_scores_'",
     "output_type": "error",
     "traceback": [
      "\u001b[0;31m---------------------------------------------------------------------------\u001b[0m",
      "\u001b[0;31mAttributeError\u001b[0m                            Traceback (most recent call last)",
      "\u001b[0;32m<ipython-input-16-a67fce1ee9ed>\u001b[0m in \u001b[0;36m<module>\u001b[0;34m\u001b[0m\n\u001b[1;32m     35\u001b[0m \u001b[0mgs\u001b[0m\u001b[0;34m.\u001b[0m\u001b[0mfit\u001b[0m\u001b[0;34m(\u001b[0m\u001b[0mX_train\u001b[0m\u001b[0;34m,\u001b[0m \u001b[0my_train\u001b[0m\u001b[0;34m)\u001b[0m\u001b[0;34m\u001b[0m\u001b[0;34m\u001b[0m\u001b[0m\n\u001b[1;32m     36\u001b[0m \u001b[0;34m\u001b[0m\u001b[0m\n\u001b[0;32m---> 37\u001b[0;31m \u001b[0mprint\u001b[0m\u001b[0;34m(\u001b[0m\u001b[0mgs\u001b[0m\u001b[0;34m.\u001b[0m\u001b[0mgrid_scores_\u001b[0m\u001b[0;34m,\u001b[0m \u001b[0mgs\u001b[0m\u001b[0;34m.\u001b[0m\u001b[0mbest_params_\u001b[0m\u001b[0;34m,\u001b[0m \u001b[0mgs\u001b[0m\u001b[0;34m.\u001b[0m\u001b[0mbest_score_\u001b[0m\u001b[0;34m)\u001b[0m\u001b[0;34m\u001b[0m\u001b[0;34m\u001b[0m\u001b[0m\n\u001b[0m",
      "\u001b[0;31mAttributeError\u001b[0m: 'GridSearchCV' object has no attribute 'grid_scores_'"
     ]
    }
   ],
   "source": [
    "# A parameter grid for XGBoost\n",
    "params = {\n",
    "        'booster': 'gbtree',\n",
    "        'objective':'reg:squarederror',\n",
    "        'max_depth': 5,\n",
    "        'lambda': 2,                   # L2 parameter\n",
    "        'subsample': 0.8,              # random sample\n",
    "        'colsample_bytree': 0.7,       # col sample when generate tree\n",
    "        'min_child_weight': 1,\n",
    "        'reg_alpha': 0,\n",
    "        'verbosity':1\n",
    "    }\n",
    "\n",
    "search_params={\n",
    "        'learning_rate': [0.1, 0.2, 0.3],\n",
    "        'n_estimators': [100, 200, 300],\n",
    "        'gamma': [0.5, 1, 1.5, 2, 5],\n",
    "    }\n",
    "\n",
    "model_xgboost = xgb.XGBRegressor(\n",
    "        booster=params['booster'],\n",
    "        objective=params['objective'],\n",
    "        n_jobs=-1,\n",
    "        subsample=params['subsample'],\n",
    "        colsample_bytree=params['colsample_bytree'],\n",
    "        random_state=0,\n",
    "        max_depth=params['max_depth'],\n",
    "        min_child_weight=params['min_child_weight'],\n",
    "        reg_alpha=params['reg_alpha'],\n",
    "        verbosity=params['verbosity']\n",
    "    )\n",
    "\n",
    "cv_folders = 5\n",
    "gs = GridSearchCV(model_xgboost, search_params, scoring=\"neg_mean_absolute_error\", cv=cv_folders, verbose=2)\n",
    "gs.fit(X_train, y_train)"
   ]
  },
  {
   "cell_type": "code",
   "execution_count": 30,
   "metadata": {},
   "outputs": [
    {
     "name": "stdout",
     "output_type": "stream",
     "text": [
      "make_scorer(mean_absolute_error, greater_is_better=False) XGBRegressor(base_score=0.5, booster='gbtree', colsample_bylevel=1,\n",
      "             colsample_bynode=1, colsample_bytree=0.7, gamma=5,\n",
      "             importance_type='gain', learning_rate=0.2, max_delta_step=0,\n",
      "             max_depth=5, min_child_weight=1, missing=None, n_estimators=300,\n",
      "             n_jobs=-1, nthread=None, objective='reg:squarederror',\n",
      "             random_state=0, reg_alpha=0, reg_lambda=1, scale_pos_weight=1,\n",
      "             seed=None, silent=None, subsample=0.8, verbosity=1) {'gamma': 5, 'learning_rate': 0.2, 'n_estimators': 300} -0.795759010535048\n"
     ]
    }
   ],
   "source": [
    "print(gs.scorer_, gs.best_estimator_, gs.best_params_, gs.best_score_)"
   ]
  },
  {
   "cell_type": "code",
   "execution_count": 8,
   "metadata": {},
   "outputs": [
    {
     "data": {
      "text/plain": [
       "XGBRegressor(base_score=0.5, booster='gbtree', colsample_bylevel=1,\n",
       "             colsample_bynode=1, colsample_bytree=0.7, gamma=5,\n",
       "             importance_type='gain', learning_rate=0.2, max_delta_step=0,\n",
       "             max_depth=5, min_child_weight=1, missing=None, n_estimators=300,\n",
       "             n_jobs=-1, nthread=None, objective='reg:squarederror',\n",
       "             random_state=0, reg_alpha=0, reg_lambda=1, scale_pos_weight=1,\n",
       "             seed=None, silent=None, subsample=0.8, verbosity=1)"
      ]
     },
     "execution_count": 8,
     "metadata": {},
     "output_type": "execute_result"
    }
   ],
   "source": [
    "# best model: gs.best_estimator_\n",
    "best_xgboost = xgb.XGBRegressor(\n",
    "                base_score=0.5,\n",
    "                booster='gbtree',\n",
    "                colsample_bylevel=1,\n",
    "                colsample_bynode=1,\n",
    "                colsample_bytree=0.7,\n",
    "                gamma=5,\n",
    "                importance_type='gain',\n",
    "                learning_rate=0.2,\n",
    "                max_delta_step=0,\n",
    "                max_depth=5,\n",
    "                min_child_weight=1,\n",
    "                missing=None,\n",
    "                n_estimators=300,\n",
    "                n_jobs=-1,\n",
    "                nthread=None,\n",
    "                objective='reg:squarederror',\n",
    "                random_state=0,\n",
    "                reg_alpha=0,\n",
    "                reg_lambda=1,\n",
    "                scale_pos_weight=1,\n",
    "                seed=None,\n",
    "                silent=None,\n",
    "                subsample=0.8,\n",
    "                verbosity=1\n",
    "            )\n",
    "\n",
    "best_xgboost.fit(X_train, y_train)"
   ]
  },
  {
   "cell_type": "code",
   "execution_count": 11,
   "metadata": {},
   "outputs": [
    {
     "name": "stdout",
     "output_type": "stream",
     "text": [
      "[0.00754438 0.02380871 0.40642664 0.00352404 0.00248134 0.00098796\n",
      " 0.062282   0.00515633 0.         0.01846733 0.0273641  0.3797335\n",
      " 0.0590335  0.00319011]\n"
     ]
    },
    {
     "data": {
      "text/plain": [
       "<matplotlib.axes._subplots.AxesSubplot at 0x1a511f5ed0>"
      ]
     },
     "execution_count": 11,
     "metadata": {},
     "output_type": "execute_result"
    },
    {
     "data": {
      "image/png": "[encoded data removed]",
      "text/plain": [
       "<Figure size 432x288 with 1 Axes>"
      ]
     },
     "metadata": {
      "needs_background": "light"
     },
     "output_type": "display_data"
    }
   ],
   "source": [
    "print(best_xgboost.feature_importances_)\n",
    "\n",
    "xgb.plot_importance(best_xgboost)"
   ]
  },
  {
   "cell_type": "markdown",
   "metadata": {},
   "source": [
    "## Random Forest"
   ]
  },
  {
   "cell_type": "code",
   "execution_count": 17,
   "metadata": {},
   "outputs": [
    {
     "name": "stderr",
     "output_type": "stream",
     "text": [
      "/Users/zachguan/opt/anaconda3/lib/python3.7/site-packages/sklearn/ensemble/forest.py:245: FutureWarning: The default value of n_estimators will change from 10 in version 0.20 to 100 in 0.22.\n",
      "  \"10 in version 0.20 to 100 in 0.22.\", FutureWarning)\n",
      "/Users/zachguan/opt/anaconda3/lib/python3.7/site-packages/ipykernel_launcher.py:1: DataConversionWarning: A column-vector y was passed when a 1d array was expected. Please change the shape of y to (n_samples,), for example using ravel().\n",
      "  \"\"\"Entry point for launching an IPython kernel.\n",
      "[Parallel(n_jobs=-1)]: Using backend ThreadingBackend with 8 concurrent workers.\n",
      "[Parallel(n_jobs=-1)]: Done   6 out of  10 | elapsed:    4.8s remaining:    3.2s\n",
      "[Parallel(n_jobs=-1)]: Done  10 out of  10 | elapsed:    7.2s finished\n"
     ]
    }
   ],
   "source": [
    "model_rf = RandomForestRegressor(n_jobs=-1, max_depth=10, verbose=True).fit(X_train, y_train)"
   ]
  },
  {
   "cell_type": "code",
   "execution_count": 18,
   "metadata": {},
   "outputs": [
    {
     "name": "stderr",
     "output_type": "stream",
     "text": [
      "[Parallel(n_jobs=8)]: Using backend ThreadingBackend with 8 concurrent workers.\n",
      "[Parallel(n_jobs=8)]: Done   6 out of  10 | elapsed:    0.1s remaining:    0.1s\n"
     ]
    },
    {
     "name": "stdout",
     "output_type": "stream",
     "text": [
      "Train Loss: 1.519465388207335\n"
     ]
    },
    {
     "name": "stderr",
     "output_type": "stream",
     "text": [
      "[Parallel(n_jobs=8)]: Done  10 out of  10 | elapsed:    0.2s finished\n"
     ]
    }
   ],
   "source": [
    "# Train\n",
    "y_pred = model_rf.predict(X_train)\n",
    "train_loss = get_rmse(y_train, y_pred)\n",
    "print(\"Train Loss: {}\".format(train_loss))"
   ]
  },
  {
   "cell_type": "code",
   "execution_count": 19,
   "metadata": {},
   "outputs": [
    {
     "name": "stderr",
     "output_type": "stream",
     "text": [
      "[Parallel(n_jobs=8)]: Using backend ThreadingBackend with 8 concurrent workers.\n",
      "[Parallel(n_jobs=8)]: Done   6 out of  10 | elapsed:    0.0s remaining:    0.0s\n"
     ]
    },
    {
     "name": "stdout",
     "output_type": "stream",
     "text": [
      "Test Loss: 1.5216837393167282\n"
     ]
    },
    {
     "name": "stderr",
     "output_type": "stream",
     "text": [
      "[Parallel(n_jobs=8)]: Done  10 out of  10 | elapsed:    0.1s finished\n"
     ]
    }
   ],
   "source": [
    "# Test\n",
    "y_pred = model_rf.predict(X_test)\n",
    "test_loss = get_rmse(y_test, y_pred)\n",
    "print(\"Test Loss: {}\".format(test_loss))"
   ]
  },
  {
   "cell_type": "markdown",
   "metadata": {},
   "source": [
    "## Gradient Boost"
   ]
  },
  {
   "cell_type": "code",
   "execution_count": 20,
   "metadata": {},
   "outputs": [
    {
     "name": "stderr",
     "output_type": "stream",
     "text": [
      "/Users/zachguan/opt/anaconda3/lib/python3.7/site-packages/sklearn/ensemble/gradient_boosting.py:1450: DataConversionWarning: A column-vector y was passed when a 1d array was expected. Please change the shape of y to (n_samples, ), for example using ravel().\n",
      "  y = column_or_1d(y, warn=True)\n"
     ]
    },
    {
     "name": "stdout",
     "output_type": "stream",
     "text": [
      "      Iter       Train Loss   Remaining Time \n",
      "         1          65.7238            1.63m\n",
      "         2          56.2108            1.58m\n",
      "         3          48.4159            1.52m\n",
      "         4          42.0633            1.51m\n",
      "         5          36.8935            1.50m\n",
      "         6          32.6818            1.47m\n",
      "         7          29.1248            1.45m\n",
      "         8          26.1859            1.43m\n",
      "         9          23.6727            1.43m\n",
      "        10          21.4780            1.41m\n",
      "        20          10.9473            1.20m\n",
      "        30           7.8073           59.98s\n",
      "        40           6.4758           49.73s\n",
      "        50           5.6147           41.03s\n",
      "        60           4.9283           32.33s\n",
      "        70           4.3693           24.03s\n",
      "        80           3.8991           15.90s\n",
      "        90           3.5239            7.93s\n",
      "       100           3.2567            0.00s\n"
     ]
    }
   ],
   "source": [
    "model_gb = GradientBoostingRegressor(verbose=True).fit(X_train, y_train)"
   ]
  },
  {
   "cell_type": "code",
   "execution_count": 21,
   "metadata": {},
   "outputs": [
    {
     "name": "stdout",
     "output_type": "stream",
     "text": [
      "Train Loss: 1.804635711888146\n"
     ]
    }
   ],
   "source": [
    "# Train\n",
    "y_pred = model_gb.predict(X_train)\n",
    "train_loss = get_rmse(y_train, y_pred)\n",
    "print(\"Train Loss: {}\".format(train_loss))"
   ]
  },
  {
   "cell_type": "code",
   "execution_count": 22,
   "metadata": {},
   "outputs": [
    {
     "name": "stdout",
     "output_type": "stream",
     "text": [
      "Test Loss: 1.7724299167621504\n"
     ]
    }
   ],
   "source": [
    "# Test\n",
    "y_pred = model_gb.predict(X_test)\n",
    "test_loss = get_rmse(y_test, y_pred)\n",
    "print(\"Test Loss: {}\".format(test_loss))"
   ]
  },
  {
   "cell_type": "markdown",
   "metadata": {},
   "source": [
    "## Neural Networks"
   ]
  },
  {
   "cell_type": "code",
   "execution_count": 9,
   "metadata": {},
   "outputs": [],
   "source": [
    "model_nn = models.Sequential()\n",
    "model_nn.add(Dense(128, activation='relu', input_shape=(X_train.shape[1],)))\n",
    "model_nn.add(BatchNormalization())\n",
    "model_nn.add(Dense(64, activation='relu'))\n",
    "model_nn.add(BatchNormalization())\n",
    "model_nn.add(Dense(32, activation='relu'))\n",
    "model_nn.add(BatchNormalization())\n",
    "model_nn.add(Dense(8, activation='relu'))\n",
    "model_nn.add(BatchNormalization())\n",
    "model_nn.add(Dense(1))\n",
    "\n",
    "optimizer = optimizers.Adam(lr=1e-3)\n",
    "model_nn.compile(loss='mse', optimizer=optimizer, metrics=['mae'])"
   ]
  },
  {
   "cell_type": "code",
   "execution_count": 10,
   "metadata": {},
   "outputs": [
    {
     "name": "stdout",
     "output_type": "stream",
     "text": [
      "Model: \"sequential\"\n",
      "_________________________________________________________________\n",
      "Layer (type)                 Output Shape              Param #   \n",
      "=================================================================\n",
      "dense (Dense)                (None, 128)               1920      \n",
      "_________________________________________________________________\n",
      "batch_normalization (BatchNo (None, 128)               512       \n",
      "_________________________________________________________________\n",
      "dense_1 (Dense)              (None, 64)                8256      \n",
      "_________________________________________________________________\n",
      "batch_normalization_1 (Batch (None, 64)                256       \n",
      "_________________________________________________________________\n",
      "dense_2 (Dense)              (None, 32)                2080      \n",
      "_________________________________________________________________\n",
      "batch_normalization_2 (Batch (None, 32)                128       \n",
      "_________________________________________________________________\n",
      "dense_3 (Dense)              (None, 8)                 264       \n",
      "_________________________________________________________________\n",
      "batch_normalization_3 (Batch (None, 8)                 32        \n",
      "_________________________________________________________________\n",
      "dense_4 (Dense)              (None, 1)                 9         \n",
      "=================================================================\n",
      "Total params: 13,457\n",
      "Trainable params: 12,993\n",
      "Non-trainable params: 464\n",
      "_________________________________________________________________\n"
     ]
    }
   ],
   "source": [
    "model_nn.summary()"
   ]
  },
  {
   "cell_type": "code",
   "execution_count": 11,
   "metadata": {},
   "outputs": [
    {
     "name": "stdout",
     "output_type": "stream",
     "text": [
      "WARNING:tensorflow:Falling back from v2 loop because of error: Failed to find data adapter that can handle input: <class 'pandas.core.frame.DataFrame'>, <class 'NoneType'>\n",
      "Train on 956868 samples, validate on 239217 samples\n",
      "Epoch 1/10\n",
      "956868/956868 [==============================] - 57s 59us/sample - loss: 34.8917 - mae: 3.4984 - val_loss: 4.4016 - val_mae: 1.5278\n",
      "Epoch 2/10\n",
      "956868/956868 [==============================] - 55s 58us/sample - loss: 2.9957 - mae: 1.0432 - val_loss: 2.5195 - val_mae: 0.9612\n",
      "Epoch 3/10\n",
      "956868/956868 [==============================] - 54s 57us/sample - loss: 2.9051 - mae: 1.0226 - val_loss: 2.9534 - val_mae: 1.0554\n",
      "Epoch 4/10\n",
      "956868/956868 [==============================] - 55s 57us/sample - loss: 2.8560 - mae: 1.0113 - val_loss: 3.0756 - val_mae: 1.1568\n",
      "Epoch 5/10\n",
      "956868/956868 [==============================] - 55s 57us/sample - loss: 2.8209 - mae: 1.0018 - val_loss: 4.5903 - val_mae: 1.5597\n",
      "Epoch 6/10\n",
      "956868/956868 [==============================] - 54s 57us/sample - loss: 2.7952 - mae: 0.9981 - val_loss: 2.2816 - val_mae: 0.8482\n",
      "Epoch 7/10\n",
      "956868/956868 [==============================] - 54s 57us/sample - loss: 2.7695 - mae: 0.9902 - val_loss: 2.4327 - val_mae: 0.9441\n",
      "Epoch 8/10\n",
      "956868/956868 [==============================] - 55s 58us/sample - loss: 2.7409 - mae: 0.9813 - val_loss: 2.8111 - val_mae: 1.0800\n",
      "Epoch 9/10\n",
      "956868/956868 [==============================] - 57s 59us/sample - loss: 2.7246 - mae: 0.9767 - val_loss: 2.3085 - val_mae: 0.8341\n",
      "Epoch 10/10\n",
      "956868/956868 [==============================] - 54s 56us/sample - loss: 2.7094 - mae: 0.9755 - val_loss: 2.3124 - val_mae: 0.8440\n"
     ]
    }
   ],
   "source": [
    "history = model_nn.fit(\n",
    "                x=X_train,\n",
    "                y=y_train,\n",
    "                validation_data=(X_test, y_test), \n",
    "                batch_size=256,\n",
    "                epochs=10,\n",
    "                shuffle=True,\n",
    "                verbose=1\n",
    "            )"
   ]
  },
  {
   "cell_type": "code",
   "execution_count": 12,
   "metadata": {},
   "outputs": [
    {
     "data": {
      "image/png": "[encoded data removed]",
      "text/plain": [
       "<Figure size 432x288 with 1 Axes>"
      ]
     },
     "metadata": {
      "needs_background": "light"
     },
     "output_type": "display_data"
    }
   ],
   "source": [
    "train_loss = history.history['loss']\n",
    "test_loss = history.history['val_loss']\n",
    "epochs = np.arange(len(train_loss))\n",
    "\n",
    "plt.plot(epochs, train_loss, 'r')\n",
    "plt.plot(epochs, test_loss, 'b')\n",
    "plt.legend(['Train Loss', 'Test Loss'])\n",
    "plt.xlabel('Epochs')\n",
    "plt.ylabel('Loss')\n",
    "plt.show()"
   ]
  },
  {
   "cell_type": "code",
   "execution_count": null,
   "metadata": {},
   "outputs": [],
   "source": []
  }
 ],
 "metadata": {
  "kernelspec": {
   "display_name": "Python 3",
   "language": "python",
   "name": "python3"
  },
  "language_info": {
   "codemirror_mode": {
    "name": "ipython",
    "version": 3
   },
   "file_extension": ".py",
   "mimetype": "text/x-python",
   "name": "python",
   "nbconvert_exporter": "python",
   "pygments_lexer": "ipython3",
   "version": "3.7.4"
  }
 },
 "nbformat": 4,
 "nbformat_minor": 2
}
